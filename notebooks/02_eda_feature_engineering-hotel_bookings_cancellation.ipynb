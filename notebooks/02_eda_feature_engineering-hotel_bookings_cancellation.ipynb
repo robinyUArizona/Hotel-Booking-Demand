{
 "cells": [
  {
   "cell_type": "markdown",
   "metadata": {},
   "source": [
    "# 1. Define the Problem"
   ]
  },
  {
   "cell_type": "markdown",
   "metadata": {},
   "source": [
    "\n",
    "### Problem Statement\n",
    "The growth of online distribution has grown by 46% from 2014 to 2018. The hold has shifted from manual bookings to online travel agencies by almost 68% in 2018. The hospitality industry is facing issues in revenue generation due to ease of cancellations of the bookings made. Based on the data collected in 2018, almost 40% of the revenue is cancelled before arrival. This comes with the possibility of easy online bookings and their cancellations. \n",
    "\n",
    "### Goal\n",
    "Our aim with this project is to help the hospitality industry generate the maximum revenue with the resources available to them based on the factors identified. Specifically, in this project, our goal is to:\n",
    "- Predict the future possibility of cancellation using Predictive Analytis approach - Factors like period of stay, weather, holiday season and time of the year for the booking may play a crucial role in determining whether the booking will be productive or not. This will determine whether the booking made will be productive based on historical data.\n",
    "- Descriptive analytics to further understand patterns, trends, and anomalies in data.\n",
    "- Evaluate the performance of various models and select best two models for hyperparameters tuning and then use this best model to make hotel bookings cancellation predition.\n",
    "\n",
    "\n"
   ]
  },
  {
   "cell_type": "markdown",
   "metadata": {},
   "source": [
    "# 2. Discover the Problem\n",
    "This project is divided in 5 sections:\n",
    "\n",
    "    1.Data Exploration\n",
    "    \n",
    "        1.1 The Data, Data Description & Preprocessing\n",
    "\n",
    "        1.2 Removing Duplicate observations\n",
    "    \n",
    "        1.3 Assessing Missing Values\n",
    "    \n",
    "        1.4 Investigating the datasets\n",
    "        \n",
    "        1.5 EDA (Exploratory Data Analysis)\n",
    "        \n",
    "        1.6 Re-encoding Some Features (Feature Engineering)\n",
    "\n",
    "\n",
    "    2.0 Some Data Visualization\n",
    "     \n",
    "     \n",
    "    3.0 Feature Engineering\n",
    "        3.1 Numerical Columns\n",
    "                A. Correlation Matrix and Heat-map\n",
    "                B. Recursive Feature Elimination\n",
    "                C. Feature Importance (ExtraTreesClassifier())\n",
    "        3.2 Categorical Columns\n",
    "                A. Chi Square Test & Fisher Score\n",
    "     \n",
    "      \n",
    "    4.0 Model Selection: Logitic Regression, Gradient Boosting and Random Forest\n",
    "        \n",
    "        4.1 Feature Importances\n",
    "        \n",
    "    5.0 Conclusion"
   ]
  },
  {
   "cell_type": "markdown",
   "metadata": {},
   "source": [
    "### <font color=blue>Import Libraries</font> "
   ]
  },
  {
   "cell_type": "code",
   "execution_count": 1,
   "metadata": {},
   "outputs": [],
   "source": [
    "\" Common libraries \" \n",
    "import pandas as pd\n",
    "import seaborn as sns\n",
    "import numpy as np\n",
    "import matplotlib.pyplot as plt\n",
    "%matplotlib inline\n",
    "\n",
    "import pymysql"
   ]
  },
  {
   "cell_type": "markdown",
   "metadata": {},
   "source": [
    "### <font color=blue>Connect to the MySQL database</font> "
   ]
  },
  {
   "cell_type": "code",
   "execution_count": null,
   "metadata": {},
   "outputs": [],
   "source": [
    "connection = pymysql.connect(\n",
    "    host='localhost',\n",
    "    user='root',\n",
    "    password='root',\n",
    "    database='ecommerce_target'\n",
    ")\n",
    "print(\"==== Connected to MySQL Server ====\")\n",
    "cursor = connection.cursor()"
   ]
  },
  {
   "cell_type": "markdown",
   "metadata": {},
   "source": [
    "### <font color=blue>Functions used to Plot</font> "
   ]
  },
  {
   "cell_type": "code",
   "execution_count": 2,
   "metadata": {},
   "outputs": [],
   "source": [
    "# Functions used in this project\n",
    "\"\"\" Visualize the Numerical Features \"\"\"\n",
    "def visualize_num_feature(hotel_data):\n",
    "    plt.figure(figsize = (14, 6))\n",
    "    plt.subplot(1,2,1)\n",
    "    sns.boxplot(hotel_data)\n",
    "    plt.subplot(1,2,2)\n",
    "    sns.distplot(hotel_data, bins=20)\n",
    "    plt.show()\n",
    " \n",
    "\"\"\" Use IQR rule to identify potential outliers\"\"\"\n",
    "def stat_summary(hotel_data):\n",
    "    stat =  hotel_data.describe()\n",
    "    print(stat)\n",
    "    IQR = stat['75%'] - stat['25%']\n",
    "    upper = stat['75%'] + 1.5 * IQR\n",
    "    lower = stat['25%'] - 1.5 * IQR\n",
    "    print('The upper and lower bounds for suspected outliers are {} and {}' .format(upper, lower))    "
   ]
  },
  {
   "cell_type": "markdown",
   "metadata": {},
   "source": [
    "## 2.1 Data Exploration\n",
    "### 2.1.1 Data, Data Description & Preprocessing"
   ]
  },
  {
   "cell_type": "code",
   "execution_count": 3,
   "metadata": {},
   "outputs": [
    {
     "name": "stdout",
     "output_type": "stream",
     "text": [
      "Number of records (rows) Hotel Bookings Demand Datasets:  119390\n",
      "Number of features (columns) Hotel Bookings Demand Datasets:  32\n",
      "\n",
      "First 5 records of the datasets: \n"
     ]
    },
    {
     "data": {
      "text/html": [
       "<div>\n",
       "<style scoped>\n",
       "    .dataframe tbody tr th:only-of-type {\n",
       "        vertical-align: middle;\n",
       "    }\n",
       "\n",
       "    .dataframe tbody tr th {\n",
       "        vertical-align: top;\n",
       "    }\n",
       "\n",
       "    .dataframe thead th {\n",
       "        text-align: right;\n",
       "    }\n",
       "</style>\n",
       "<table border=\"1\" class=\"dataframe\">\n",
       "  <thead>\n",
       "    <tr style=\"text-align: right;\">\n",
       "      <th></th>\n",
       "      <th>hotel</th>\n",
       "      <th>is_canceled</th>\n",
       "      <th>lead_time</th>\n",
       "      <th>arrival_date_year</th>\n",
       "      <th>arrival_date_month</th>\n",
       "      <th>arrival_date_week_number</th>\n",
       "      <th>arrival_date_day_of_month</th>\n",
       "      <th>stays_in_weekend_nights</th>\n",
       "      <th>stays_in_week_nights</th>\n",
       "      <th>adults</th>\n",
       "      <th>...</th>\n",
       "      <th>deposit_type</th>\n",
       "      <th>agent</th>\n",
       "      <th>company</th>\n",
       "      <th>days_in_waiting_list</th>\n",
       "      <th>customer_type</th>\n",
       "      <th>adr</th>\n",
       "      <th>required_car_parking_spaces</th>\n",
       "      <th>total_of_special_requests</th>\n",
       "      <th>reservation_status</th>\n",
       "      <th>reservation_status_date</th>\n",
       "    </tr>\n",
       "  </thead>\n",
       "  <tbody>\n",
       "    <tr>\n",
       "      <th>0</th>\n",
       "      <td>Resort Hotel</td>\n",
       "      <td>0</td>\n",
       "      <td>342</td>\n",
       "      <td>2015</td>\n",
       "      <td>July</td>\n",
       "      <td>27</td>\n",
       "      <td>1</td>\n",
       "      <td>0</td>\n",
       "      <td>0</td>\n",
       "      <td>2</td>\n",
       "      <td>...</td>\n",
       "      <td>No Deposit</td>\n",
       "      <td>NaN</td>\n",
       "      <td>NaN</td>\n",
       "      <td>0</td>\n",
       "      <td>Transient</td>\n",
       "      <td>0.0</td>\n",
       "      <td>0</td>\n",
       "      <td>0</td>\n",
       "      <td>Check-Out</td>\n",
       "      <td>2015-07-01</td>\n",
       "    </tr>\n",
       "    <tr>\n",
       "      <th>1</th>\n",
       "      <td>Resort Hotel</td>\n",
       "      <td>0</td>\n",
       "      <td>737</td>\n",
       "      <td>2015</td>\n",
       "      <td>July</td>\n",
       "      <td>27</td>\n",
       "      <td>1</td>\n",
       "      <td>0</td>\n",
       "      <td>0</td>\n",
       "      <td>2</td>\n",
       "      <td>...</td>\n",
       "      <td>No Deposit</td>\n",
       "      <td>NaN</td>\n",
       "      <td>NaN</td>\n",
       "      <td>0</td>\n",
       "      <td>Transient</td>\n",
       "      <td>0.0</td>\n",
       "      <td>0</td>\n",
       "      <td>0</td>\n",
       "      <td>Check-Out</td>\n",
       "      <td>2015-07-01</td>\n",
       "    </tr>\n",
       "    <tr>\n",
       "      <th>2</th>\n",
       "      <td>Resort Hotel</td>\n",
       "      <td>0</td>\n",
       "      <td>7</td>\n",
       "      <td>2015</td>\n",
       "      <td>July</td>\n",
       "      <td>27</td>\n",
       "      <td>1</td>\n",
       "      <td>0</td>\n",
       "      <td>1</td>\n",
       "      <td>1</td>\n",
       "      <td>...</td>\n",
       "      <td>No Deposit</td>\n",
       "      <td>NaN</td>\n",
       "      <td>NaN</td>\n",
       "      <td>0</td>\n",
       "      <td>Transient</td>\n",
       "      <td>75.0</td>\n",
       "      <td>0</td>\n",
       "      <td>0</td>\n",
       "      <td>Check-Out</td>\n",
       "      <td>2015-07-02</td>\n",
       "    </tr>\n",
       "    <tr>\n",
       "      <th>3</th>\n",
       "      <td>Resort Hotel</td>\n",
       "      <td>0</td>\n",
       "      <td>13</td>\n",
       "      <td>2015</td>\n",
       "      <td>July</td>\n",
       "      <td>27</td>\n",
       "      <td>1</td>\n",
       "      <td>0</td>\n",
       "      <td>1</td>\n",
       "      <td>1</td>\n",
       "      <td>...</td>\n",
       "      <td>No Deposit</td>\n",
       "      <td>304.0</td>\n",
       "      <td>NaN</td>\n",
       "      <td>0</td>\n",
       "      <td>Transient</td>\n",
       "      <td>75.0</td>\n",
       "      <td>0</td>\n",
       "      <td>0</td>\n",
       "      <td>Check-Out</td>\n",
       "      <td>2015-07-02</td>\n",
       "    </tr>\n",
       "    <tr>\n",
       "      <th>4</th>\n",
       "      <td>Resort Hotel</td>\n",
       "      <td>0</td>\n",
       "      <td>14</td>\n",
       "      <td>2015</td>\n",
       "      <td>July</td>\n",
       "      <td>27</td>\n",
       "      <td>1</td>\n",
       "      <td>0</td>\n",
       "      <td>2</td>\n",
       "      <td>2</td>\n",
       "      <td>...</td>\n",
       "      <td>No Deposit</td>\n",
       "      <td>240.0</td>\n",
       "      <td>NaN</td>\n",
       "      <td>0</td>\n",
       "      <td>Transient</td>\n",
       "      <td>98.0</td>\n",
       "      <td>0</td>\n",
       "      <td>1</td>\n",
       "      <td>Check-Out</td>\n",
       "      <td>2015-07-03</td>\n",
       "    </tr>\n",
       "  </tbody>\n",
       "</table>\n",
       "<p>5 rows × 32 columns</p>\n",
       "</div>"
      ],
      "text/plain": [
       "          hotel  is_canceled  lead_time  arrival_date_year arrival_date_month  \\\n",
       "0  Resort Hotel            0        342               2015               July   \n",
       "1  Resort Hotel            0        737               2015               July   \n",
       "2  Resort Hotel            0          7               2015               July   \n",
       "3  Resort Hotel            0         13               2015               July   \n",
       "4  Resort Hotel            0         14               2015               July   \n",
       "\n",
       "   arrival_date_week_number  arrival_date_day_of_month  \\\n",
       "0                        27                          1   \n",
       "1                        27                          1   \n",
       "2                        27                          1   \n",
       "3                        27                          1   \n",
       "4                        27                          1   \n",
       "\n",
       "   stays_in_weekend_nights  stays_in_week_nights  adults  ...  deposit_type  \\\n",
       "0                        0                     0       2  ...    No Deposit   \n",
       "1                        0                     0       2  ...    No Deposit   \n",
       "2                        0                     1       1  ...    No Deposit   \n",
       "3                        0                     1       1  ...    No Deposit   \n",
       "4                        0                     2       2  ...    No Deposit   \n",
       "\n",
       "   agent company days_in_waiting_list customer_type   adr  \\\n",
       "0    NaN     NaN                    0     Transient   0.0   \n",
       "1    NaN     NaN                    0     Transient   0.0   \n",
       "2    NaN     NaN                    0     Transient  75.0   \n",
       "3  304.0     NaN                    0     Transient  75.0   \n",
       "4  240.0     NaN                    0     Transient  98.0   \n",
       "\n",
       "   required_car_parking_spaces  total_of_special_requests  reservation_status  \\\n",
       "0                            0                          0           Check-Out   \n",
       "1                            0                          0           Check-Out   \n",
       "2                            0                          0           Check-Out   \n",
       "3                            0                          0           Check-Out   \n",
       "4                            0                          1           Check-Out   \n",
       "\n",
       "  reservation_status_date  \n",
       "0              2015-07-01  \n",
       "1              2015-07-01  \n",
       "2              2015-07-02  \n",
       "3              2015-07-02  \n",
       "4              2015-07-03  \n",
       "\n",
       "[5 rows x 32 columns]"
      ]
     },
     "metadata": {},
     "output_type": "display_data"
    },
    {
     "name": "stdout",
     "output_type": "stream",
     "text": [
      "\n",
      "\n",
      "\n",
      "Hotel Bookings Demand Datasets Information: \n",
      "<class 'pandas.core.frame.DataFrame'>\n",
      "RangeIndex: 119390 entries, 0 to 119389\n",
      "Data columns (total 32 columns):\n",
      " #   Column                          Non-Null Count   Dtype  \n",
      "---  ------                          --------------   -----  \n",
      " 0   hotel                           119390 non-null  object \n",
      " 1   is_canceled                     119390 non-null  int64  \n",
      " 2   lead_time                       119390 non-null  int64  \n",
      " 3   arrival_date_year               119390 non-null  int64  \n",
      " 4   arrival_date_month              119390 non-null  object \n",
      " 5   arrival_date_week_number        119390 non-null  int64  \n",
      " 6   arrival_date_day_of_month       119390 non-null  int64  \n",
      " 7   stays_in_weekend_nights         119390 non-null  int64  \n",
      " 8   stays_in_week_nights            119390 non-null  int64  \n",
      " 9   adults                          119390 non-null  int64  \n",
      " 10  children                        119386 non-null  float64\n",
      " 11  babies                          119390 non-null  int64  \n",
      " 12  meal                            119390 non-null  object \n",
      " 13  country                         118902 non-null  object \n",
      " 14  market_segment                  119390 non-null  object \n",
      " 15  distribution_channel            119390 non-null  object \n",
      " 16  is_repeated_guest               119390 non-null  int64  \n",
      " 17  previous_cancellations          119390 non-null  int64  \n",
      " 18  previous_bookings_not_canceled  119390 non-null  int64  \n",
      " 19  reserved_room_type              119390 non-null  object \n",
      " 20  assigned_room_type              119390 non-null  object \n",
      " 21  booking_changes                 119390 non-null  int64  \n",
      " 22  deposit_type                    119390 non-null  object \n",
      " 23  agent                           103050 non-null  float64\n",
      " 24  company                         6797 non-null    float64\n",
      " 25  days_in_waiting_list            119390 non-null  int64  \n",
      " 26  customer_type                   119390 non-null  object \n",
      " 27  adr                             119390 non-null  float64\n",
      " 28  required_car_parking_spaces     119390 non-null  int64  \n",
      " 29  total_of_special_requests       119390 non-null  int64  \n",
      " 30  reservation_status              119390 non-null  object \n",
      " 31  reservation_status_date         119390 non-null  object \n",
      "dtypes: float64(4), int64(16), object(12)\n",
      "memory usage: 29.1+ MB\n"
     ]
    },
    {
     "data": {
      "text/plain": [
       "None"
      ]
     },
     "metadata": {},
     "output_type": "display_data"
    }
   ],
   "source": [
    "\"\"\" \n",
    "    - load the data into a Pandas dataframe\n",
    "    - display first 5 rows from dataframe \n",
    "    - information for the datasets\n",
    "    \n",
    "\"\"\"\n",
    "hotel_data = pd.read_csv(\"hotel_bookings.csv\")\n",
    "print(\"Number of records (rows) Hotel Bookings Demand Datasets: \", hotel_data.shape[0])\n",
    "print(\"Number of features (columns) Hotel Bookings Demand Datasets: \", hotel_data.shape[1])\n",
    "# print(\"\\nColumns names of the hotel booking datasets: \\n\", hotel_data.columns.tolist())\n",
    "\n",
    "print(\"\\nFirst 5 records of the datasets: \")\n",
    "display(hotel_data.head())\n",
    "\n",
    "print(\"\\n\\n\\nHotel Bookings Demand Datasets Information: \")\n",
    "display(hotel_data.info())"
   ]
  },
  {
   "cell_type": "markdown",
   "metadata": {},
   "source": [
    "### 2.2 Removing Duplicate observations"
   ]
  },
  {
   "cell_type": "code",
   "execution_count": 4,
   "metadata": {},
   "outputs": [
    {
     "name": "stdout",
     "output_type": "stream",
     "text": [
      "No. of duplicate rows:  31994\n"
     ]
    }
   ],
   "source": [
    "\"\"\"\n",
    "    - find and remove duplicate rows in hotel_data\n",
    "\"\"\"\n",
    "\n",
    "# check the number of duplicated rows\n",
    "# no. of rows is identical to other row or rows\n",
    "print(\"No. of duplicate rows: \", hotel_data.duplicated(keep='first').sum()) \n",
    "\n",
    "# Check for this duplicate rows as a dataframe\n",
    "# display(hotel_data.loc[hotel_data.duplicated(keep='first')])"
   ]
  },
  {
   "cell_type": "code",
   "execution_count": 5,
   "metadata": {},
   "outputs": [
    {
     "name": "stdout",
     "output_type": "stream",
     "text": [
      "\n",
      "Dimesnion of hotel_data after removing duplicates:  (87396, 32)\n"
     ]
    }
   ],
   "source": [
    "### Remove the duplicate rows #####\n",
    "hotel_data = hotel_data.drop_duplicates(keep='first')\n",
    "# check the dataset dimension\n",
    "print(\"\\nDimesnion of hotel_data after removing duplicates: \", hotel_data.shape)"
   ]
  },
  {
   "cell_type": "markdown",
   "metadata": {},
   "source": [
    "### 2.3 Assessing Missing Values"
   ]
  },
  {
   "cell_type": "code",
   "execution_count": 6,
   "metadata": {},
   "outputs": [
    {
     "name": "stdout",
     "output_type": "stream",
     "text": [
      "No. of missing data in each columns: \n",
      " hotel                                 0\n",
      "is_canceled                           0\n",
      "lead_time                             0\n",
      "arrival_date_year                     0\n",
      "arrival_date_month                    0\n",
      "arrival_date_week_number              0\n",
      "arrival_date_day_of_month             0\n",
      "stays_in_weekend_nights               0\n",
      "stays_in_week_nights                  0\n",
      "adults                                0\n",
      "children                              4\n",
      "babies                                0\n",
      "meal                                  0\n",
      "country                             452\n",
      "market_segment                        0\n",
      "distribution_channel                  0\n",
      "is_repeated_guest                     0\n",
      "previous_cancellations                0\n",
      "previous_bookings_not_canceled        0\n",
      "reserved_room_type                    0\n",
      "assigned_room_type                    0\n",
      "booking_changes                       0\n",
      "deposit_type                          0\n",
      "agent                             12193\n",
      "company                           82137\n",
      "days_in_waiting_list                  0\n",
      "customer_type                         0\n",
      "adr                                   0\n",
      "required_car_parking_spaces           0\n",
      "total_of_special_requests             0\n",
      "reservation_status                    0\n",
      "reservation_status_date               0\n",
      "dtype: int64\n",
      "\n",
      " Columns name which has missing value:  ['children', 'country', 'agent', 'company']\n",
      "\n",
      " Columns name which has NaN:  ['children', 'country', 'agent', 'company']\n",
      "\n",
      " Missing Values are equals to NaN:  True\n"
     ]
    }
   ],
   "source": [
    "\"\"\" Checking for Null, NA, NaN values \"\"\"\n",
    "missing_data = hotel_data.isnull().sum(axis=0)\n",
    "print(\"No. of missing data in each columns: \\n\", missing_data)\n",
    "\n",
    "columns_with_missing_value = hotel_data.columns[hotel_data.isnull().any()].tolist()\n",
    "print(\"\\n Columns name which has missing value: \", columns_with_missing_value)\n",
    "\n",
    "\n",
    "columns_with_nan = hotel_data.columns[hotel_data.isna().any()].tolist()\n",
    "print(\"\\n Columns name which has NaN: \", columns_with_nan)\n",
    "\n",
    "## verifying\n",
    "print(\"\\n Missing Values are equals to NaN: \", columns_with_missing_value == columns_with_nan)"
   ]
  },
  {
   "cell_type": "markdown",
   "metadata": {},
   "source": [
    "### 2.4 Investigating the Data"
   ]
  },
  {
   "cell_type": "markdown",
   "metadata": {},
   "source": [
    "#### A. Analysis of Target Variable 'is_cancelled'"
   ]
  },
  {
   "cell_type": "code",
   "execution_count": 7,
   "metadata": {},
   "outputs": [
    {
     "data": {
      "text/plain": [
       "Text(0, 0.5, 'Total Count')"
      ]
     },
     "execution_count": 7,
     "metadata": {},
     "output_type": "execute_result"
    },
    {
     "data": {
      "image/png": "[encoded data removed]",
      "text/plain": [
       "<Figure size 432x288 with 1 Axes>"
      ]
     },
     "metadata": {
      "needs_background": "light"
     },
     "output_type": "display_data"
    }
   ],
   "source": [
    "## is_cancelled\n",
    "plt.figure(figsize=(6, 4))\n",
    "sns.set(style=\"whitegrid\")\n",
    "ax = sns.countplot(x=\"is_canceled\", data=hotel_data)\n",
    "plt.title('Hotel Booking Cancellation')\n",
    "plt.xlabel('Is Canceled?')\n",
    "plt.ylabel('Total Count')"
   ]
  },
  {
   "cell_type": "markdown",
   "metadata": {},
   "source": [
    "##### A.1 Worse Case Baseline Accuracy"
   ]
  },
  {
   "cell_type": "code",
   "execution_count": 8,
   "metadata": {},
   "outputs": [
    {
     "name": "stdout",
     "output_type": "stream",
     "text": [
      "No. of booking canceled:  24025\n",
      "No. of booking not canceled:  63371\n",
      "Total count:  87396\n",
      "% Worse Case Base line Accuracy based on majority class:  72.5101835324271 %\n"
     ]
    }
   ],
   "source": [
    "booking_cancel = (hotel_data['is_canceled'] == 1).sum()\n",
    "print(\"No. of booking canceled: \", booking_cancel)\n",
    "not_booking_cancel = (hotel_data['is_canceled'] == 0).sum()\n",
    "print(\"No. of booking not canceled: \", not_booking_cancel)\n",
    "total_booking = booking_cancel + not_booking_cancel\n",
    "print(\"Total count: \", total_booking)\n",
    "print(\"% Worse Case Base line Accuracy based on majority class: \", (not_booking_cancel/total_booking) * 100, \"%\" )"
   ]
  },
  {
   "cell_type": "markdown",
   "metadata": {},
   "source": [
    "##### A.2\n"
   ]
  },
  {
   "cell_type": "markdown",
   "metadata": {},
   "source": [
    "#### B. Analysis of columns with missing value:  ['children', 'country', 'agent', 'company']"
   ]
  },
  {
   "cell_type": "code",
   "execution_count": 9,
   "metadata": {},
   "outputs": [],
   "source": [
    "missing_col = hotel_data[['children', 'country', 'agent', 'company']]"
   ]
  },
  {
   "cell_type": "markdown",
   "metadata": {},
   "source": [
    "<font color=red>B1. Company</font>"
   ]
  },
  {
   "cell_type": "code",
   "execution_count": 10,
   "metadata": {},
   "outputs": [
    {
     "name": "stdout",
     "output_type": "stream",
     "text": [
      "Missing values in 'company' column:  82137\n",
      "Not missing values in 'company' column:  5259\n"
     ]
    }
   ],
   "source": [
    "\"\"\"\n",
    "    - Analysis of 'company\" Feature\n",
    "\"\"\"\n",
    "# display(missing_col['company'].value_counts())\n",
    "print(\"Missing values in 'company' column: \", missing_col['company'].isnull().sum())\n",
    "print(\"Not missing values in 'company' column: \",missing_col['company'].notnull().sum())"
   ]
  },
  {
   "cell_type": "markdown",
   "metadata": {},
   "source": [
    "- Note: For online booking \"compnany\" will not play important role\n",
    "- Wow: Missing values are higher --- its okay to remove this column"
   ]
  },
  {
   "cell_type": "markdown",
   "metadata": {},
   "source": [
    "<font color=red>B2. Agent</font>"
   ]
  },
  {
   "cell_type": "code",
   "execution_count": 11,
   "metadata": {},
   "outputs": [
    {
     "name": "stdout",
     "output_type": "stream",
     "text": [
      "Missing values in 'agent' column:  12193\n",
      "Not missing values in 'agent' column:  75203\n"
     ]
    }
   ],
   "source": [
    "\"\"\"\n",
    "    - Analysis of \"agent\" Feature\n",
    "\"\"\"\n",
    "# display(missing_col['agent'].value_counts())\n",
    "print(\"Missing values in 'agent' column: \", missing_col['agent'].isnull().sum())\n",
    "print(\"Not missing values in 'agent' column: \",missing_col['agent'].notnull().sum())\n",
    "\n",
    "## Wow: Missing values are higher --- its okay to remove this column"
   ]
  },
  {
   "cell_type": "markdown",
   "metadata": {},
   "source": [
    "- Note: For online booking \"agent\" is not important\n",
    "- Wow: Missing values are higher --- its okay to remove this column"
   ]
  },
  {
   "cell_type": "markdown",
   "metadata": {},
   "source": [
    "<font color=red>B3. Children</font>"
   ]
  },
  {
   "cell_type": "code",
   "execution_count": 12,
   "metadata": {},
   "outputs": [
    {
     "name": "stdout",
     "output_type": "stream",
     "text": [
      "Missing values in 'children' column:  4\n",
      "Not missing values in 'children' column:  87392\n",
      "value \t count of children \n",
      " 0.0     79028\n",
      "1.0      4695\n",
      "2.0      3593\n",
      "3.0        75\n",
      "NaN         4\n",
      "10.0        1\n",
      "Name: children, dtype: int64\n"
     ]
    },
    {
     "data": {
      "text/plain": [
       "<matplotlib.axes._subplots.AxesSubplot at 0x1fc642dfe08>"
      ]
     },
     "execution_count": 12,
     "metadata": {},
     "output_type": "execute_result"
    },
    {
     "data": {
      "image/png": "[encoded data removed]",
      "text/plain": [
       "<Figure size 432x288 with 1 Axes>"
      ]
     },
     "metadata": {},
     "output_type": "display_data"
    }
   ],
   "source": [
    "\"\"\"\n",
    "    - Analysis of \"children\" Feature\n",
    "\"\"\"\n",
    "print(\"Missing values in 'children' column: \", missing_col['children'].isnull().sum())\n",
    "print(\"Not missing values in 'children' column: \",missing_col['children'].notnull().sum())\n",
    "\n",
    "### children\n",
    "print(\"value \\t count of children \\n\", missing_col['children'].value_counts(dropna=False))\n",
    "sns.countplot(x=\"children\", data=missing_col)"
   ]
  },
  {
   "cell_type": "code",
   "execution_count": 13,
   "metadata": {},
   "outputs": [],
   "source": [
    "# Replace NaN with 1 child\n",
    "hotel_data['children'] = hotel_data['children'].replace(np.nan, 1)"
   ]
  },
  {
   "cell_type": "code",
   "execution_count": 14,
   "metadata": {},
   "outputs": [],
   "source": [
    "# Replace 10 children with 1 child\n",
    "hotel_data['children'] = hotel_data['children'].replace(to_replace = 10, value = 1) "
   ]
  },
  {
   "cell_type": "code",
   "execution_count": 15,
   "metadata": {},
   "outputs": [
    {
     "name": "stdout",
     "output_type": "stream",
     "text": [
      "value count of children : 0.0    79028\n",
      "1.0     4700\n",
      "2.0     3593\n",
      "3.0       75\n",
      "Name: children, dtype: int64\n"
     ]
    }
   ],
   "source": [
    "print(\"value count of children :\", hotel_data['children'].value_counts(dropna=False))\n",
    "# display(new_hotel_data[new_hotel_data.children.isnull()])"
   ]
  },
  {
   "cell_type": "markdown",
   "metadata": {},
   "source": [
    " <font color=red>B4. Country</font>"
   ]
  },
  {
   "cell_type": "code",
   "execution_count": 16,
   "metadata": {},
   "outputs": [
    {
     "name": "stdout",
     "output_type": "stream",
     "text": [
      "Missing values in 'country' column:  452\n",
      "Not missing values in 'country' column:  86944\n"
     ]
    }
   ],
   "source": [
    "print(\"Missing values in 'country' column: \", missing_col['country'].isnull().sum())\n",
    "print(\"Not missing values in 'country' column: \",missing_col['country'].notnull().sum())"
   ]
  },
  {
   "cell_type": "markdown",
   "metadata": {},
   "source": [
    "#### C. Removing <font color=red>['country', 'agent', 'company']</font> feature"
   ]
  },
  {
   "cell_type": "code",
   "execution_count": 17,
   "metadata": {},
   "outputs": [
    {
     "name": "stdout",
     "output_type": "stream",
     "text": [
      "hotel                             False\n",
      "is_canceled                       False\n",
      "lead_time                         False\n",
      "arrival_date_year                 False\n",
      "arrival_date_month                False\n",
      "arrival_date_week_number          False\n",
      "arrival_date_day_of_month         False\n",
      "stays_in_weekend_nights           False\n",
      "stays_in_week_nights              False\n",
      "adults                            False\n",
      "children                          False\n",
      "babies                            False\n",
      "meal                              False\n",
      "market_segment                    False\n",
      "distribution_channel              False\n",
      "is_repeated_guest                 False\n",
      "previous_cancellations            False\n",
      "previous_bookings_not_canceled    False\n",
      "reserved_room_type                False\n",
      "assigned_room_type                False\n",
      "booking_changes                   False\n",
      "deposit_type                      False\n",
      "days_in_waiting_list              False\n",
      "customer_type                     False\n",
      "adr                               False\n",
      "required_car_parking_spaces       False\n",
      "total_of_special_requests         False\n",
      "reservation_status                False\n",
      "reservation_status_date           False\n",
      "dtype: bool\n"
     ]
    }
   ],
   "source": [
    "hotel_data = hotel_data.drop(['country', 'agent', 'company'], axis=1)\n",
    "\n",
    "## Check\n",
    "print(hotel_data.isna().any())"
   ]
  },
  {
   "cell_type": "markdown",
   "metadata": {},
   "source": [
    "### 2.5 Exploratory Data Analysis\n",
    "#### 2.5.1 Descriptive Statistics: \n",
    "- Measure of Central Tendency:\n",
    "- Measure of Dispersion:\n",
    "\n",
    "**Summarizing numerical and categorical columns seperately**\n"
   ]
  },
  {
   "cell_type": "code",
   "execution_count": 18,
   "metadata": {},
   "outputs": [
    {
     "name": "stdout",
     "output_type": "stream",
     "text": [
      "\n",
      "Summary of Statistics for numerical columns: \n"
     ]
    },
    {
     "data": {
      "text/html": [
       "<div>\n",
       "<style scoped>\n",
       "    .dataframe tbody tr th:only-of-type {\n",
       "        vertical-align: middle;\n",
       "    }\n",
       "\n",
       "    .dataframe tbody tr th {\n",
       "        vertical-align: top;\n",
       "    }\n",
       "\n",
       "    .dataframe thead th {\n",
       "        text-align: right;\n",
       "    }\n",
       "</style>\n",
       "<table border=\"1\" class=\"dataframe\">\n",
       "  <thead>\n",
       "    <tr style=\"text-align: right;\">\n",
       "      <th></th>\n",
       "      <th>count</th>\n",
       "      <th>mean</th>\n",
       "      <th>std</th>\n",
       "      <th>min</th>\n",
       "      <th>25%</th>\n",
       "      <th>50%</th>\n",
       "      <th>75%</th>\n",
       "      <th>max</th>\n",
       "    </tr>\n",
       "  </thead>\n",
       "  <tbody>\n",
       "    <tr>\n",
       "      <th>is_canceled</th>\n",
       "      <td>87396.0</td>\n",
       "      <td>0.274898</td>\n",
       "      <td>0.446466</td>\n",
       "      <td>0.00</td>\n",
       "      <td>0.0</td>\n",
       "      <td>0.0</td>\n",
       "      <td>1.0</td>\n",
       "      <td>1.0</td>\n",
       "    </tr>\n",
       "    <tr>\n",
       "      <th>lead_time</th>\n",
       "      <td>87396.0</td>\n",
       "      <td>79.891368</td>\n",
       "      <td>86.052325</td>\n",
       "      <td>0.00</td>\n",
       "      <td>11.0</td>\n",
       "      <td>49.0</td>\n",
       "      <td>125.0</td>\n",
       "      <td>737.0</td>\n",
       "    </tr>\n",
       "    <tr>\n",
       "      <th>arrival_date_year</th>\n",
       "      <td>87396.0</td>\n",
       "      <td>2016.210296</td>\n",
       "      <td>0.686102</td>\n",
       "      <td>2015.00</td>\n",
       "      <td>2016.0</td>\n",
       "      <td>2016.0</td>\n",
       "      <td>2017.0</td>\n",
       "      <td>2017.0</td>\n",
       "    </tr>\n",
       "    <tr>\n",
       "      <th>arrival_date_week_number</th>\n",
       "      <td>87396.0</td>\n",
       "      <td>26.838334</td>\n",
       "      <td>13.674572</td>\n",
       "      <td>1.00</td>\n",
       "      <td>16.0</td>\n",
       "      <td>27.0</td>\n",
       "      <td>37.0</td>\n",
       "      <td>53.0</td>\n",
       "    </tr>\n",
       "    <tr>\n",
       "      <th>arrival_date_day_of_month</th>\n",
       "      <td>87396.0</td>\n",
       "      <td>15.815541</td>\n",
       "      <td>8.835146</td>\n",
       "      <td>1.00</td>\n",
       "      <td>8.0</td>\n",
       "      <td>16.0</td>\n",
       "      <td>23.0</td>\n",
       "      <td>31.0</td>\n",
       "    </tr>\n",
       "    <tr>\n",
       "      <th>stays_in_weekend_nights</th>\n",
       "      <td>87396.0</td>\n",
       "      <td>1.005263</td>\n",
       "      <td>1.031921</td>\n",
       "      <td>0.00</td>\n",
       "      <td>0.0</td>\n",
       "      <td>1.0</td>\n",
       "      <td>2.0</td>\n",
       "      <td>19.0</td>\n",
       "    </tr>\n",
       "    <tr>\n",
       "      <th>stays_in_week_nights</th>\n",
       "      <td>87396.0</td>\n",
       "      <td>2.625395</td>\n",
       "      <td>2.053584</td>\n",
       "      <td>0.00</td>\n",
       "      <td>1.0</td>\n",
       "      <td>2.0</td>\n",
       "      <td>4.0</td>\n",
       "      <td>50.0</td>\n",
       "    </tr>\n",
       "    <tr>\n",
       "      <th>adults</th>\n",
       "      <td>87396.0</td>\n",
       "      <td>1.875795</td>\n",
       "      <td>0.626500</td>\n",
       "      <td>0.00</td>\n",
       "      <td>2.0</td>\n",
       "      <td>2.0</td>\n",
       "      <td>2.0</td>\n",
       "      <td>55.0</td>\n",
       "    </tr>\n",
       "    <tr>\n",
       "      <th>babies</th>\n",
       "      <td>87396.0</td>\n",
       "      <td>0.010824</td>\n",
       "      <td>0.113597</td>\n",
       "      <td>0.00</td>\n",
       "      <td>0.0</td>\n",
       "      <td>0.0</td>\n",
       "      <td>0.0</td>\n",
       "      <td>10.0</td>\n",
       "    </tr>\n",
       "    <tr>\n",
       "      <th>is_repeated_guest</th>\n",
       "      <td>87396.0</td>\n",
       "      <td>0.039075</td>\n",
       "      <td>0.193775</td>\n",
       "      <td>0.00</td>\n",
       "      <td>0.0</td>\n",
       "      <td>0.0</td>\n",
       "      <td>0.0</td>\n",
       "      <td>1.0</td>\n",
       "    </tr>\n",
       "    <tr>\n",
       "      <th>previous_cancellations</th>\n",
       "      <td>87396.0</td>\n",
       "      <td>0.030413</td>\n",
       "      <td>0.369145</td>\n",
       "      <td>0.00</td>\n",
       "      <td>0.0</td>\n",
       "      <td>0.0</td>\n",
       "      <td>0.0</td>\n",
       "      <td>26.0</td>\n",
       "    </tr>\n",
       "    <tr>\n",
       "      <th>previous_bookings_not_canceled</th>\n",
       "      <td>87396.0</td>\n",
       "      <td>0.183990</td>\n",
       "      <td>1.731894</td>\n",
       "      <td>0.00</td>\n",
       "      <td>0.0</td>\n",
       "      <td>0.0</td>\n",
       "      <td>0.0</td>\n",
       "      <td>72.0</td>\n",
       "    </tr>\n",
       "    <tr>\n",
       "      <th>booking_changes</th>\n",
       "      <td>87396.0</td>\n",
       "      <td>0.271603</td>\n",
       "      <td>0.727245</td>\n",
       "      <td>0.00</td>\n",
       "      <td>0.0</td>\n",
       "      <td>0.0</td>\n",
       "      <td>0.0</td>\n",
       "      <td>21.0</td>\n",
       "    </tr>\n",
       "    <tr>\n",
       "      <th>days_in_waiting_list</th>\n",
       "      <td>87396.0</td>\n",
       "      <td>0.749565</td>\n",
       "      <td>10.015731</td>\n",
       "      <td>0.00</td>\n",
       "      <td>0.0</td>\n",
       "      <td>0.0</td>\n",
       "      <td>0.0</td>\n",
       "      <td>391.0</td>\n",
       "    </tr>\n",
       "    <tr>\n",
       "      <th>required_car_parking_spaces</th>\n",
       "      <td>87396.0</td>\n",
       "      <td>0.084226</td>\n",
       "      <td>0.281533</td>\n",
       "      <td>0.00</td>\n",
       "      <td>0.0</td>\n",
       "      <td>0.0</td>\n",
       "      <td>0.0</td>\n",
       "      <td>8.0</td>\n",
       "    </tr>\n",
       "    <tr>\n",
       "      <th>total_of_special_requests</th>\n",
       "      <td>87396.0</td>\n",
       "      <td>0.698567</td>\n",
       "      <td>0.831946</td>\n",
       "      <td>0.00</td>\n",
       "      <td>0.0</td>\n",
       "      <td>0.0</td>\n",
       "      <td>1.0</td>\n",
       "      <td>5.0</td>\n",
       "    </tr>\n",
       "    <tr>\n",
       "      <th>children</th>\n",
       "      <td>87396.0</td>\n",
       "      <td>0.138576</td>\n",
       "      <td>0.454695</td>\n",
       "      <td>0.00</td>\n",
       "      <td>0.0</td>\n",
       "      <td>0.0</td>\n",
       "      <td>0.0</td>\n",
       "      <td>3.0</td>\n",
       "    </tr>\n",
       "    <tr>\n",
       "      <th>adr</th>\n",
       "      <td>87396.0</td>\n",
       "      <td>106.337246</td>\n",
       "      <td>55.013953</td>\n",
       "      <td>-6.38</td>\n",
       "      <td>72.0</td>\n",
       "      <td>98.1</td>\n",
       "      <td>134.0</td>\n",
       "      <td>5400.0</td>\n",
       "    </tr>\n",
       "  </tbody>\n",
       "</table>\n",
       "</div>"
      ],
      "text/plain": [
       "                                  count         mean        std      min  \\\n",
       "is_canceled                     87396.0     0.274898   0.446466     0.00   \n",
       "lead_time                       87396.0    79.891368  86.052325     0.00   \n",
       "arrival_date_year               87396.0  2016.210296   0.686102  2015.00   \n",
       "arrival_date_week_number        87396.0    26.838334  13.674572     1.00   \n",
       "arrival_date_day_of_month       87396.0    15.815541   8.835146     1.00   \n",
       "stays_in_weekend_nights         87396.0     1.005263   1.031921     0.00   \n",
       "stays_in_week_nights            87396.0     2.625395   2.053584     0.00   \n",
       "adults                          87396.0     1.875795   0.626500     0.00   \n",
       "babies                          87396.0     0.010824   0.113597     0.00   \n",
       "is_repeated_guest               87396.0     0.039075   0.193775     0.00   \n",
       "previous_cancellations          87396.0     0.030413   0.369145     0.00   \n",
       "previous_bookings_not_canceled  87396.0     0.183990   1.731894     0.00   \n",
       "booking_changes                 87396.0     0.271603   0.727245     0.00   \n",
       "days_in_waiting_list            87396.0     0.749565  10.015731     0.00   \n",
       "required_car_parking_spaces     87396.0     0.084226   0.281533     0.00   \n",
       "total_of_special_requests       87396.0     0.698567   0.831946     0.00   \n",
       "children                        87396.0     0.138576   0.454695     0.00   \n",
       "adr                             87396.0   106.337246  55.013953    -6.38   \n",
       "\n",
       "                                   25%     50%     75%     max  \n",
       "is_canceled                        0.0     0.0     1.0     1.0  \n",
       "lead_time                         11.0    49.0   125.0   737.0  \n",
       "arrival_date_year               2016.0  2016.0  2017.0  2017.0  \n",
       "arrival_date_week_number          16.0    27.0    37.0    53.0  \n",
       "arrival_date_day_of_month          8.0    16.0    23.0    31.0  \n",
       "stays_in_weekend_nights            0.0     1.0     2.0    19.0  \n",
       "stays_in_week_nights               1.0     2.0     4.0    50.0  \n",
       "adults                             2.0     2.0     2.0    55.0  \n",
       "babies                             0.0     0.0     0.0    10.0  \n",
       "is_repeated_guest                  0.0     0.0     0.0     1.0  \n",
       "previous_cancellations             0.0     0.0     0.0    26.0  \n",
       "previous_bookings_not_canceled     0.0     0.0     0.0    72.0  \n",
       "booking_changes                    0.0     0.0     0.0    21.0  \n",
       "days_in_waiting_list               0.0     0.0     0.0   391.0  \n",
       "required_car_parking_spaces        0.0     0.0     0.0     8.0  \n",
       "total_of_special_requests          0.0     0.0     1.0     5.0  \n",
       "children                           0.0     0.0     0.0     3.0  \n",
       "adr                               72.0    98.1   134.0  5400.0  "
      ]
     },
     "metadata": {},
     "output_type": "display_data"
    }
   ],
   "source": [
    "# print(\" Columns names and their types: \\n\", hotel_data.dtypes)\n",
    "# num_int_type = hotel_data.select_dtypes(include = [np.number]).columns.tolist()\n",
    "num_int_type = hotel_data.select_dtypes(include='int64').columns.tolist()\n",
    "# print(\"\\nNumeric-Integer Types columns name: \\n\", num_int_type)\n",
    "\n",
    "num_float_type = hotel_data.select_dtypes(include='float64').columns.tolist()\n",
    "# print(\"\\nNumeric-Float Types columns name: \\n\", num_float_type)\n",
    "\n",
    "cat_object_type = hotel_data.select_dtypes(include='object').columns.tolist()\n",
    "# print(\"\\n\\nCategorical Types columns name: \\n\", cat_object_type)\n",
    "\n",
    "\n",
    "## Summary of numerical features\n",
    "print(\"\\nSummary of Statistics for numerical columns: \")\n",
    "num_type = num_int_type + num_float_type\n",
    "display(hotel_data[num_type].describe().T)\n",
    "# display(hotel_data.describe(include = [np.number]).T)\n",
    "\n",
    "## Summary of categorical features\n",
    "# print(\"\\nSummary of Statistics for categorical columns: \")\n",
    "# display(hotel_data[cat_object_type].describe().T)\n",
    "# display(hotel_data.describe(include = ['O']).T)\n",
    "\n",
    "# print(hotel_data[cat_object_type].hotel.value_counts())"
   ]
  },
  {
   "cell_type": "markdown",
   "metadata": {},
   "source": [
    "**Note** Conclusion of statistics summary\n",
    "1. 'arrival_data_year' need to be encoded from 2015, 2016, and 2017 are big number and will impack the model performance\n",
    "2. 'stays_in_weekend_nights'  need to be encoded since 1st qaurtile is 0, 2nd quartile is 1, 3rd quartile is 2 while max value is 19\n",
    "3. 'stays_in_week_nights' need to be encoded since 1st qaurtile is 0, 2nd quartile is 2, 3rd quartile is 3 while max value is 50 with further analysis\n",
    "4. 'babies' features has issue Max is 50 while other quartiles are 0\n",
    "5. "
   ]
  },
  {
   "cell_type": "markdown",
   "metadata": {},
   "source": [
    "#### 2.5.2 Univariate Analysis"
   ]
  },
  {
   "cell_type": "markdown",
   "metadata": {},
   "source": [
    "- 2.5.2.1 Lead Time"
   ]
  },
  {
   "cell_type": "code",
   "execution_count": 19,
   "metadata": {},
   "outputs": [
    {
     "name": "stdout",
     "output_type": "stream",
     "text": [
      "Visulaize lead_time Feature\n"
     ]
    },
    {
     "data": {
      "image/png": "[encoded data removed]",
      "text/plain": [
       "<Figure size 1008x432 with 2 Axes>"
      ]
     },
     "metadata": {},
     "output_type": "display_data"
    },
    {
     "name": "stdout",
     "output_type": "stream",
     "text": [
      "count    87396.000000\n",
      "mean        79.891368\n",
      "std         86.052325\n",
      "min          0.000000\n",
      "25%         11.000000\n",
      "50%         49.000000\n",
      "75%        125.000000\n",
      "max        737.000000\n",
      "Name: lead_time, dtype: float64\n",
      "The upper and lower bounds for suspected outliers are 296.0 and -160.0\n"
     ]
    }
   ],
   "source": [
    "### lead_time\n",
    "print('Visulaize lead_time Feature')\n",
    "visualize_num_feature(hotel_data.lead_time)\n",
    "stat_summary(hotel_data.lead_time) "
   ]
  },
  {
   "cell_type": "code",
   "execution_count": 20,
   "metadata": {},
   "outputs": [
    {
     "name": "stdout",
     "output_type": "stream",
     "text": [
      "(87396,)\n",
      "(87396, 29)\n"
     ]
    }
   ],
   "source": [
    "## \"lead_time\"\n",
    "# The upper and lower bounds for suspected outliers are 296.0 and -160.0\n",
    "# lower outlier -160.0 does not make sense - I will explain why we are getting this\n",
    "# I am just choosing\n",
    "remain_lead_time = hotel_data.lead_time < 300\n",
    "print(remain_lead_time.shape)\n",
    "new_hotel_data = hotel_data[remain_lead_time]\n",
    "print(hotel_data.shape)"
   ]
  },
  {
   "cell_type": "code",
   "execution_count": 21,
   "metadata": {},
   "outputs": [
    {
     "name": "stdout",
     "output_type": "stream",
     "text": [
      "Visulaize lead_time Feature\n"
     ]
    },
    {
     "data": {
      "image/png": "[encoded data removed]",
      "text/plain": [
       "<Figure size 1008x432 with 2 Axes>"
      ]
     },
     "metadata": {},
     "output_type": "display_data"
    },
    {
     "name": "stdout",
     "output_type": "stream",
     "text": [
      "count    85078.000000\n",
      "mean        72.435953\n",
      "std         73.638806\n",
      "min          0.000000\n",
      "25%         11.000000\n",
      "50%         46.000000\n",
      "75%        117.000000\n",
      "max        299.000000\n",
      "Name: lead_time, dtype: float64\n",
      "The upper and lower bounds for suspected outliers are 276.0 and -148.0\n"
     ]
    },
    {
     "data": {
      "text/plain": [
       "<matplotlib.axes._subplots.AxesSubplot at 0x1fc64e22b88>"
      ]
     },
     "execution_count": 21,
     "metadata": {},
     "output_type": "execute_result"
    },
    {
     "data": {
      "image/png": "[encoded data removed]",
      "text/plain": [
       "<Figure size 432x288 with 1 Axes>"
      ]
     },
     "metadata": {},
     "output_type": "display_data"
    }
   ],
   "source": [
    "print('Visulaize lead_time Feature')\n",
    "visualize_num_feature(hotel_data.lead_time)\n",
    "stat_summary(new_hotel_data.lead_time) \n",
    "\n",
    "sns.boxplot(x = 'is_canceled', y = 'lead_time', data = new_hotel_data, hue='hotel')"
   ]
  },
  {
   "cell_type": "markdown",
   "metadata": {},
   "source": [
    "- 2.5.2.2 'stays_in_weekend_nights' and 'stays_in_weeknights'\n",
    "\n",
    "Both features need to be encoded"
   ]
  },
  {
   "cell_type": "code",
   "execution_count": 22,
   "metadata": {},
   "outputs": [
    {
     "name": "stdout",
     "output_type": "stream",
     "text": [
      "Visulaize 'stays_in_weekend_nights' Feature\n"
     ]
    },
    {
     "data": {
      "image/png": "[encoded data removed]",
      "text/plain": [
       "<Figure size 1008x432 with 2 Axes>"
      ]
     },
     "metadata": {},
     "output_type": "display_data"
    },
    {
     "name": "stdout",
     "output_type": "stream",
     "text": [
      "count    87396.000000\n",
      "mean         1.005263\n",
      "std          1.031921\n",
      "min          0.000000\n",
      "25%          0.000000\n",
      "50%          1.000000\n",
      "75%          2.000000\n",
      "max         19.000000\n",
      "Name: stays_in_weekend_nights, dtype: float64\n",
      "The upper and lower bounds for suspected outliers are 5.0 and -3.0\n",
      "Visulaize 'stays_in_week_nights' Feature\n"
     ]
    },
    {
     "data": {
      "image/png": "[encoded data removed]",
      "text/plain": [
       "<Figure size 1008x432 with 2 Axes>"
      ]
     },
     "metadata": {},
     "output_type": "display_data"
    },
    {
     "name": "stdout",
     "output_type": "stream",
     "text": [
      "count    87396.000000\n",
      "mean         2.625395\n",
      "std          2.053584\n",
      "min          0.000000\n",
      "25%          1.000000\n",
      "50%          2.000000\n",
      "75%          4.000000\n",
      "max         50.000000\n",
      "Name: stays_in_week_nights, dtype: float64\n",
      "The upper and lower bounds for suspected outliers are 8.5 and -3.5\n"
     ]
    }
   ],
   "source": [
    "print(\"Visulaize 'stays_in_weekend_nights' Feature\")\n",
    "visualize_num_feature(hotel_data['stays_in_weekend_nights'])\n",
    "stat_summary(hotel_data['stays_in_weekend_nights']) \n",
    "\n",
    "\n",
    "############################################################################\n",
    "\n",
    "print(\"Visulaize 'stays_in_week_nights' Feature\")\n",
    "visualize_num_feature(hotel_data['stays_in_week_nights'])\n",
    "stat_summary(hotel_data['stays_in_week_nights']) "
   ]
  },
  {
   "cell_type": "markdown",
   "metadata": {},
   "source": [
    "2.5.2.3 Adults\n",
    "\n",
    "'adults' feature need to be encoded"
   ]
  },
  {
   "cell_type": "code",
   "execution_count": 23,
   "metadata": {},
   "outputs": [
    {
     "name": "stdout",
     "output_type": "stream",
     "text": [
      "Visulaize 'Adults' Feature\n",
      "count    87396.000000\n",
      "mean         1.875795\n",
      "std          0.626500\n",
      "min          0.000000\n",
      "25%          2.000000\n",
      "50%          2.000000\n",
      "75%          2.000000\n",
      "max         55.000000\n",
      "Name: adults, dtype: float64\n",
      "The upper and lower bounds for suspected outliers are 2.0 and 2.0\n"
     ]
    },
    {
     "data": {
      "text/plain": [
       "2     64497\n",
       "1     16503\n",
       "3      5935\n",
       "0       385\n",
       "4        60\n",
       "26        5\n",
       "27        2\n",
       "20        2\n",
       "5         2\n",
       "55        1\n",
       "50        1\n",
       "40        1\n",
       "10        1\n",
       "6         1\n",
       "Name: adults, dtype: int64"
      ]
     },
     "metadata": {},
     "output_type": "display_data"
    },
    {
     "data": {
      "image/png": "[encoded data removed]",
      "text/plain": [
       "<Figure size 432x288 with 1 Axes>"
      ]
     },
     "metadata": {},
     "output_type": "display_data"
    }
   ],
   "source": [
    "print(\"Visulaize 'Adults' Feature\")\n",
    "# bar plot\n",
    "sns.countplot(x=\"adults\", data=hotel_data)\n",
    "stat_summary(hotel_data['adults']) \n",
    "display(hotel_data['adults'].value_counts(dropna=False))"
   ]
  },
  {
   "cell_type": "markdown",
   "metadata": {},
   "source": [
    "2.5.2.4 Babies\n",
    "\n",
    "'babies' feature need to be encoded"
   ]
  },
  {
   "cell_type": "code",
   "execution_count": 24,
   "metadata": {},
   "outputs": [
    {
     "name": "stdout",
     "output_type": "stream",
     "text": [
      "Visulaize 'Babies' Feature\n",
      "count    87396.000000\n",
      "mean         0.010824\n",
      "std          0.113597\n",
      "min          0.000000\n",
      "25%          0.000000\n",
      "50%          0.000000\n",
      "75%          0.000000\n",
      "max         10.000000\n",
      "Name: babies, dtype: float64\n",
      "The upper and lower bounds for suspected outliers are 0.0 and 0.0\n"
     ]
    },
    {
     "data": {
      "text/plain": [
       "0     86482\n",
       "1       897\n",
       "2        15\n",
       "10        1\n",
       "9         1\n",
       "Name: babies, dtype: int64"
      ]
     },
     "metadata": {},
     "output_type": "display_data"
    },
    {
     "data": {
      "image/png": "[encoded data removed]",
      "text/plain": [
       "<Figure size 432x288 with 1 Axes>"
      ]
     },
     "metadata": {},
     "output_type": "display_data"
    }
   ],
   "source": [
    "print(\"Visulaize 'Babies' Feature\")\n",
    "# bar plot\n",
    "sns.countplot(x=\"babies\", data=hotel_data)\n",
    "stat_summary(hotel_data['babies']) \n",
    "display(hotel_data['babies'].value_counts(dropna=False))"
   ]
  },
  {
   "cell_type": "markdown",
   "metadata": {},
   "source": [
    "2.5.2.5\n",
    "- 'is_repeated_guest\n",
    "- 'previous_cancellations', \n",
    "- 'previous_bookings_not_canceled', \n",
    "- 'booking_changes'"
   ]
  },
  {
   "cell_type": "code",
   "execution_count": 25,
   "metadata": {},
   "outputs": [
    {
     "data": {
      "text/plain": [
       "0    83981\n",
       "1     3415\n",
       "Name: is_repeated_guest, dtype: int64"
      ]
     },
     "execution_count": 25,
     "metadata": {},
     "output_type": "execute_result"
    }
   ],
   "source": [
    "hotel_data['is_repeated_guest'].value_counts(dropna=False)"
   ]
  },
  {
   "cell_type": "code",
   "execution_count": 26,
   "metadata": {},
   "outputs": [
    {
     "data": {
      "text/plain": [
       "0     85711\n",
       "1      1407\n",
       "2       112\n",
       "3        61\n",
       "4        30\n",
       "11       27\n",
       "5        19\n",
       "6        17\n",
       "13        4\n",
       "25        2\n",
       "24        2\n",
       "26        1\n",
       "21        1\n",
       "19        1\n",
       "14        1\n",
       "Name: previous_cancellations, dtype: int64"
      ]
     },
     "execution_count": 26,
     "metadata": {},
     "output_type": "execute_result"
    }
   ],
   "source": [
    "hotel_data['previous_cancellations'].value_counts(dropna=False)"
   ]
  },
  {
   "cell_type": "code",
   "execution_count": null,
   "metadata": {},
   "outputs": [],
   "source": []
  },
  {
   "cell_type": "code",
   "execution_count": null,
   "metadata": {
    "scrolled": true
   },
   "outputs": [],
   "source": []
  },
  {
   "cell_type": "markdown",
   "metadata": {},
   "source": [
    "2.5.2.6 'days_in_waiting_list' and 'adr'"
   ]
  },
  {
   "cell_type": "code",
   "execution_count": null,
   "metadata": {},
   "outputs": [],
   "source": []
  },
  {
   "cell_type": "code",
   "execution_count": 27,
   "metadata": {},
   "outputs": [
    {
     "name": "stdout",
     "output_type": "stream",
     "text": [
      "Visulaize adr Feature\n"
     ]
    },
    {
     "data": {
      "image/png": "[encoded data removed]",
      "text/plain": [
       "<Figure size 1008x432 with 2 Axes>"
      ]
     },
     "metadata": {},
     "output_type": "display_data"
    },
    {
     "name": "stdout",
     "output_type": "stream",
     "text": [
      "count    85078.000000\n",
      "mean       106.664777\n",
      "std         55.233281\n",
      "min         -6.380000\n",
      "25%         72.250000\n",
      "50%         98.870000\n",
      "75%        134.915000\n",
      "max       5400.000000\n",
      "Name: adr, dtype: float64\n",
      "The upper and lower bounds for suspected outliers are 228.91250000000005 and -21.74750000000003\n"
     ]
    },
    {
     "data": {
      "text/plain": [
       "'\\nAverage Daily Rate as defined by dividing the sum of all \\nlodging transactions by the total number of staying nights\\n\\n'"
      ]
     },
     "execution_count": 27,
     "metadata": {},
     "output_type": "execute_result"
    }
   ],
   "source": [
    "### adr\n",
    "print('Visulaize adr Feature')\n",
    "visualize_num_feature(new_hotel_data['adr'])\n",
    "stat_summary(new_hotel_data['adr']) \n",
    "\n",
    "\"\"\"\n",
    "Average Daily Rate as defined by dividing the sum of all \n",
    "lodging transactions by the total number of staying nights\n",
    "\n",
    "\"\"\"\n",
    "## may need to do imputation"
   ]
  },
  {
   "cell_type": "code",
   "execution_count": 28,
   "metadata": {},
   "outputs": [
    {
     "name": "stdout",
     "output_type": "stream",
     "text": [
      "(85078,)\n",
      "(84809, 29)\n"
     ]
    }
   ],
   "source": [
    "## \"adr\"\n",
    "remain_adr = new_hotel_data['adr'] < 300\n",
    "print(remain_adr.shape)\n",
    "new_hotel_data = new_hotel_data[remain_adr]\n",
    "print(new_hotel_data.shape)"
   ]
  },
  {
   "cell_type": "code",
   "execution_count": 29,
   "metadata": {},
   "outputs": [
    {
     "name": "stdout",
     "output_type": "stream",
     "text": [
      "Visulaize lead_time Feature\n"
     ]
    },
    {
     "data": {
      "image/png": "[encoded data removed]",
      "text/plain": [
       "<Figure size 1008x432 with 2 Axes>"
      ]
     },
     "metadata": {},
     "output_type": "display_data"
    },
    {
     "name": "stdout",
     "output_type": "stream",
     "text": [
      "count    84809.000000\n",
      "mean       105.898775\n",
      "std         50.693433\n",
      "min         -6.380000\n",
      "25%         72.250000\n",
      "50%         98.400000\n",
      "75%        134.100000\n",
      "max        299.430000\n",
      "Name: adr, dtype: float64\n",
      "The upper and lower bounds for suspected outliers are 226.875 and -20.52499999999999\n"
     ]
    },
    {
     "data": {
      "text/plain": [
       "<matplotlib.axes._subplots.AxesSubplot at 0x1fc63cf8c08>"
      ]
     },
     "execution_count": 29,
     "metadata": {},
     "output_type": "execute_result"
    },
    {
     "data": {
      "image/png": "[encoded data removed]",
      "text/plain": [
       "<Figure size 432x288 with 1 Axes>"
      ]
     },
     "metadata": {},
     "output_type": "display_data"
    }
   ],
   "source": [
    "print('Visulaize lead_time Feature')\n",
    "visualize_num_feature(new_hotel_data['adr'])\n",
    "stat_summary(new_hotel_data['adr']) \n",
    "\n",
    "sns.boxplot(x = 'is_canceled', y = 'adr', data = new_hotel_data, hue='hotel')"
   ]
  },
  {
   "cell_type": "code",
   "execution_count": 30,
   "metadata": {},
   "outputs": [
    {
     "data": {
      "text/plain": [
       "Check-Out    63371\n",
       "Canceled     23011\n",
       "No-Show       1014\n",
       "Name: reservation_status, dtype: int64"
      ]
     },
     "execution_count": 30,
     "metadata": {},
     "output_type": "execute_result"
    }
   ],
   "source": [
    "hotel_data['reservation_status'].value_counts(dropna=False)\n",
    "\n"
   ]
  },
  {
   "cell_type": "code",
   "execution_count": null,
   "metadata": {},
   "outputs": [],
   "source": []
  },
  {
   "cell_type": "code",
   "execution_count": null,
   "metadata": {},
   "outputs": [],
   "source": []
  },
  {
   "cell_type": "code",
   "execution_count": null,
   "metadata": {},
   "outputs": [],
   "source": []
  },
  {
   "cell_type": "code",
   "execution_count": null,
   "metadata": {},
   "outputs": [],
   "source": []
  },
  {
   "cell_type": "markdown",
   "metadata": {},
   "source": [
    "#### 2.5.3 Bivariate Analysis "
   ]
  },
  {
   "cell_type": "code",
   "execution_count": 31,
   "metadata": {},
   "outputs": [
    {
     "data": {
      "text/html": [
       "<div>\n",
       "<style scoped>\n",
       "    .dataframe tbody tr th:only-of-type {\n",
       "        vertical-align: middle;\n",
       "    }\n",
       "\n",
       "    .dataframe tbody tr th {\n",
       "        vertical-align: top;\n",
       "    }\n",
       "\n",
       "    .dataframe thead th {\n",
       "        text-align: right;\n",
       "    }\n",
       "</style>\n",
       "<table border=\"1\" class=\"dataframe\">\n",
       "  <thead>\n",
       "    <tr style=\"text-align: right;\">\n",
       "      <th>arrival_date_month</th>\n",
       "      <th>April</th>\n",
       "      <th>August</th>\n",
       "      <th>December</th>\n",
       "      <th>February</th>\n",
       "      <th>January</th>\n",
       "      <th>July</th>\n",
       "      <th>June</th>\n",
       "      <th>March</th>\n",
       "      <th>May</th>\n",
       "      <th>November</th>\n",
       "      <th>October</th>\n",
       "      <th>September</th>\n",
       "    </tr>\n",
       "    <tr>\n",
       "      <th>is_canceled</th>\n",
       "      <th></th>\n",
       "      <th></th>\n",
       "      <th></th>\n",
       "      <th></th>\n",
       "      <th></th>\n",
       "      <th></th>\n",
       "      <th></th>\n",
       "      <th></th>\n",
       "      <th></th>\n",
       "      <th></th>\n",
       "      <th></th>\n",
       "      <th></th>\n",
       "    </tr>\n",
       "  </thead>\n",
       "  <tbody>\n",
       "    <tr>\n",
       "      <th>0</th>\n",
       "      <td>5499</td>\n",
       "      <td>7634</td>\n",
       "      <td>3753</td>\n",
       "      <td>4683</td>\n",
       "      <td>3655</td>\n",
       "      <td>6859</td>\n",
       "      <td>5411</td>\n",
       "      <td>5683</td>\n",
       "      <td>5913</td>\n",
       "      <td>3941</td>\n",
       "      <td>5292</td>\n",
       "      <td>5048</td>\n",
       "    </tr>\n",
       "    <tr>\n",
       "      <th>1</th>\n",
       "      <td>2409</td>\n",
       "      <td>3623</td>\n",
       "      <td>1378</td>\n",
       "      <td>1415</td>\n",
       "      <td>1038</td>\n",
       "      <td>3198</td>\n",
       "      <td>2354</td>\n",
       "      <td>1830</td>\n",
       "      <td>2442</td>\n",
       "      <td>1054</td>\n",
       "      <td>1642</td>\n",
       "      <td>1642</td>\n",
       "    </tr>\n",
       "  </tbody>\n",
       "</table>\n",
       "</div>"
      ],
      "text/plain": [
       "arrival_date_month  April  August  December  February  January  July  June  \\\n",
       "is_canceled                                                                  \n",
       "0                    5499    7634      3753      4683     3655  6859  5411   \n",
       "1                    2409    3623      1378      1415     1038  3198  2354   \n",
       "\n",
       "arrival_date_month  March   May  November  October  September  \n",
       "is_canceled                                                    \n",
       "0                    5683  5913      3941     5292       5048  \n",
       "1                    1830  2442      1054     1642       1642  "
      ]
     },
     "metadata": {},
     "output_type": "display_data"
    },
    {
     "data": {
      "text/plain": [
       "<matplotlib.axes._subplots.AxesSubplot at 0x1fc648e4a08>"
      ]
     },
     "execution_count": 31,
     "metadata": {},
     "output_type": "execute_result"
    },
    {
     "data": {
      "image/png": "[encoded data removed]",
      "text/plain": [
       "<Figure size 864x360 with 1 Axes>"
      ]
     },
     "metadata": {},
     "output_type": "display_data"
    }
   ],
   "source": [
    "## arrival_date_month vs is_canceled\n",
    "\n",
    "table_date_month = pd.crosstab(index=hotel_data[\"is_canceled\"], \n",
    "                                  columns=hotel_data[\"arrival_date_month\"])\n",
    "\n",
    "display(table_date_month )\n",
    "\n",
    "table_date_month .plot(kind=\"bar\", \n",
    "                 figsize=(12,5),\n",
    "                 stacked=False,\n",
    "                 width=0.85)"
   ]
  },
  {
   "cell_type": "code",
   "execution_count": 32,
   "metadata": {},
   "outputs": [
    {
     "data": {
      "text/html": [
       "<div>\n",
       "<style scoped>\n",
       "    .dataframe tbody tr th:only-of-type {\n",
       "        vertical-align: middle;\n",
       "    }\n",
       "\n",
       "    .dataframe tbody tr th {\n",
       "        vertical-align: top;\n",
       "    }\n",
       "\n",
       "    .dataframe thead th {\n",
       "        text-align: right;\n",
       "    }\n",
       "</style>\n",
       "<table border=\"1\" class=\"dataframe\">\n",
       "  <thead>\n",
       "    <tr style=\"text-align: right;\">\n",
       "      <th>adults</th>\n",
       "      <th>0</th>\n",
       "      <th>1</th>\n",
       "      <th>2</th>\n",
       "      <th>3</th>\n",
       "      <th>4</th>\n",
       "      <th>5</th>\n",
       "      <th>6</th>\n",
       "      <th>10</th>\n",
       "      <th>20</th>\n",
       "      <th>26</th>\n",
       "      <th>27</th>\n",
       "      <th>40</th>\n",
       "      <th>50</th>\n",
       "      <th>55</th>\n",
       "    </tr>\n",
       "    <tr>\n",
       "      <th>is_canceled</th>\n",
       "      <th></th>\n",
       "      <th></th>\n",
       "      <th></th>\n",
       "      <th></th>\n",
       "      <th></th>\n",
       "      <th></th>\n",
       "      <th></th>\n",
       "      <th></th>\n",
       "      <th></th>\n",
       "      <th></th>\n",
       "      <th></th>\n",
       "      <th></th>\n",
       "      <th></th>\n",
       "      <th></th>\n",
       "    </tr>\n",
       "  </thead>\n",
       "  <tbody>\n",
       "    <tr>\n",
       "      <th>0</th>\n",
       "      <td>288</td>\n",
       "      <td>13294</td>\n",
       "      <td>45836</td>\n",
       "      <td>3907</td>\n",
       "      <td>46</td>\n",
       "      <td>0</td>\n",
       "      <td>0</td>\n",
       "      <td>0</td>\n",
       "      <td>0</td>\n",
       "      <td>0</td>\n",
       "      <td>0</td>\n",
       "      <td>0</td>\n",
       "      <td>0</td>\n",
       "      <td>0</td>\n",
       "    </tr>\n",
       "    <tr>\n",
       "      <th>1</th>\n",
       "      <td>97</td>\n",
       "      <td>3209</td>\n",
       "      <td>18661</td>\n",
       "      <td>2028</td>\n",
       "      <td>14</td>\n",
       "      <td>2</td>\n",
       "      <td>1</td>\n",
       "      <td>1</td>\n",
       "      <td>2</td>\n",
       "      <td>5</td>\n",
       "      <td>2</td>\n",
       "      <td>1</td>\n",
       "      <td>1</td>\n",
       "      <td>1</td>\n",
       "    </tr>\n",
       "  </tbody>\n",
       "</table>\n",
       "</div>"
      ],
      "text/plain": [
       "adults        0      1      2     3   4   5   6   10  20  26  27  40  50  55\n",
       "is_canceled                                                                 \n",
       "0            288  13294  45836  3907  46   0   0   0   0   0   0   0   0   0\n",
       "1             97   3209  18661  2028  14   2   1   1   2   5   2   1   1   1"
      ]
     },
     "metadata": {},
     "output_type": "display_data"
    },
    {
     "data": {
      "text/plain": [
       "<matplotlib.axes._subplots.AxesSubplot at 0x1fc64b1e748>"
      ]
     },
     "execution_count": 32,
     "metadata": {},
     "output_type": "execute_result"
    },
    {
     "data": {
      "image/png": "[encoded data removed]",
      "text/plain": [
       "<Figure size 576x360 with 1 Axes>"
      ]
     },
     "metadata": {},
     "output_type": "display_data"
    }
   ],
   "source": [
    "## adults vs is_canceled\n",
    "table_adults = pd.crosstab(index=hotel_data[\"is_canceled\"], \n",
    "                                  columns=hotel_data[\"adults\"])\n",
    "\n",
    "display(table_adults)\n",
    "\n",
    "table_adults.plot(kind=\"bar\", \n",
    "                 figsize=(8,5),\n",
    "                 stacked=False,\n",
    "                 width=0.85)"
   ]
  },
  {
   "cell_type": "code",
   "execution_count": 33,
   "metadata": {},
   "outputs": [
    {
     "data": {
      "text/html": [
       "<div>\n",
       "<style scoped>\n",
       "    .dataframe tbody tr th:only-of-type {\n",
       "        vertical-align: middle;\n",
       "    }\n",
       "\n",
       "    .dataframe tbody tr th {\n",
       "        vertical-align: top;\n",
       "    }\n",
       "\n",
       "    .dataframe thead th {\n",
       "        text-align: right;\n",
       "    }\n",
       "</style>\n",
       "<table border=\"1\" class=\"dataframe\">\n",
       "  <thead>\n",
       "    <tr style=\"text-align: right;\">\n",
       "      <th>is_canceled</th>\n",
       "      <th>0</th>\n",
       "      <th>1</th>\n",
       "      <th>Total</th>\n",
       "    </tr>\n",
       "    <tr>\n",
       "      <th>hotel</th>\n",
       "      <th></th>\n",
       "      <th></th>\n",
       "      <th></th>\n",
       "    </tr>\n",
       "  </thead>\n",
       "  <tbody>\n",
       "    <tr>\n",
       "      <th>City Hotel</th>\n",
       "      <td>37379</td>\n",
       "      <td>16049</td>\n",
       "      <td>53428</td>\n",
       "    </tr>\n",
       "    <tr>\n",
       "      <th>Resort Hotel</th>\n",
       "      <td>25992</td>\n",
       "      <td>7976</td>\n",
       "      <td>33968</td>\n",
       "    </tr>\n",
       "    <tr>\n",
       "      <th>Total</th>\n",
       "      <td>63371</td>\n",
       "      <td>24025</td>\n",
       "      <td>87396</td>\n",
       "    </tr>\n",
       "  </tbody>\n",
       "</table>\n",
       "</div>"
      ],
      "text/plain": [
       "is_canceled       0      1  Total\n",
       "hotel                            \n",
       "City Hotel    37379  16049  53428\n",
       "Resort Hotel  25992   7976  33968\n",
       "Total         63371  24025  87396"
      ]
     },
     "metadata": {},
     "output_type": "display_data"
    }
   ],
   "source": [
    "# count of members checked out from the two hotels\n",
    "table_hotel = pd.crosstab(hotel_data['hotel'], hotel_data['is_canceled'], \n",
    "            margins=True, margins_name=\"Total\")\n",
    "display(table_hotel)"
   ]
  },
  {
   "cell_type": "code",
   "execution_count": 34,
   "metadata": {},
   "outputs": [
    {
     "data": {
      "text/html": [
       "<div>\n",
       "<style scoped>\n",
       "    .dataframe tbody tr th:only-of-type {\n",
       "        vertical-align: middle;\n",
       "    }\n",
       "\n",
       "    .dataframe tbody tr th {\n",
       "        vertical-align: top;\n",
       "    }\n",
       "\n",
       "    .dataframe thead th {\n",
       "        text-align: right;\n",
       "    }\n",
       "</style>\n",
       "<table border=\"1\" class=\"dataframe\">\n",
       "  <thead>\n",
       "    <tr style=\"text-align: right;\">\n",
       "      <th>adults</th>\n",
       "      <th>0</th>\n",
       "      <th>1</th>\n",
       "      <th>2</th>\n",
       "      <th>3</th>\n",
       "      <th>4</th>\n",
       "      <th>5</th>\n",
       "      <th>6</th>\n",
       "      <th>10</th>\n",
       "      <th>20</th>\n",
       "      <th>26</th>\n",
       "      <th>27</th>\n",
       "      <th>40</th>\n",
       "      <th>50</th>\n",
       "      <th>55</th>\n",
       "    </tr>\n",
       "    <tr>\n",
       "      <th>is_canceled</th>\n",
       "      <th></th>\n",
       "      <th></th>\n",
       "      <th></th>\n",
       "      <th></th>\n",
       "      <th></th>\n",
       "      <th></th>\n",
       "      <th></th>\n",
       "      <th></th>\n",
       "      <th></th>\n",
       "      <th></th>\n",
       "      <th></th>\n",
       "      <th></th>\n",
       "      <th></th>\n",
       "      <th></th>\n",
       "    </tr>\n",
       "  </thead>\n",
       "  <tbody>\n",
       "    <tr>\n",
       "      <th>0</th>\n",
       "      <td>288</td>\n",
       "      <td>13294</td>\n",
       "      <td>45836</td>\n",
       "      <td>3907</td>\n",
       "      <td>46</td>\n",
       "      <td>0</td>\n",
       "      <td>0</td>\n",
       "      <td>0</td>\n",
       "      <td>0</td>\n",
       "      <td>0</td>\n",
       "      <td>0</td>\n",
       "      <td>0</td>\n",
       "      <td>0</td>\n",
       "      <td>0</td>\n",
       "    </tr>\n",
       "    <tr>\n",
       "      <th>1</th>\n",
       "      <td>97</td>\n",
       "      <td>3209</td>\n",
       "      <td>18661</td>\n",
       "      <td>2028</td>\n",
       "      <td>14</td>\n",
       "      <td>2</td>\n",
       "      <td>1</td>\n",
       "      <td>1</td>\n",
       "      <td>2</td>\n",
       "      <td>5</td>\n",
       "      <td>2</td>\n",
       "      <td>1</td>\n",
       "      <td>1</td>\n",
       "      <td>1</td>\n",
       "    </tr>\n",
       "  </tbody>\n",
       "</table>\n",
       "</div>"
      ],
      "text/plain": [
       "adults        0      1      2     3   4   5   6   10  20  26  27  40  50  55\n",
       "is_canceled                                                                 \n",
       "0            288  13294  45836  3907  46   0   0   0   0   0   0   0   0   0\n",
       "1             97   3209  18661  2028  14   2   1   1   2   5   2   1   1   1"
      ]
     },
     "metadata": {},
     "output_type": "display_data"
    },
    {
     "data": {
      "text/plain": [
       "<matplotlib.axes._subplots.AxesSubplot at 0x1fc651bd0c8>"
      ]
     },
     "execution_count": 34,
     "metadata": {},
     "output_type": "execute_result"
    },
    {
     "data": {
      "image/png": "[encoded data removed]",
      "text/plain": [
       "<Figure size 576x360 with 1 Axes>"
      ]
     },
     "metadata": {},
     "output_type": "display_data"
    }
   ],
   "source": [
    "table_adults = pd.crosstab(index=hotel_data[\"is_canceled\"], \n",
    "                                  columns=hotel_data[\"adults\"])\n",
    "\n",
    "display(table_adults)\n",
    "\n",
    "table_adults.plot(kind=\"bar\", \n",
    "                 figsize=(8,5),\n",
    "                 stacked=False,\n",
    "                 width=0.85)"
   ]
  },
  {
   "cell_type": "code",
   "execution_count": 35,
   "metadata": {},
   "outputs": [
    {
     "data": {
      "text/html": [
       "<div>\n",
       "<style scoped>\n",
       "    .dataframe tbody tr th:only-of-type {\n",
       "        vertical-align: middle;\n",
       "    }\n",
       "\n",
       "    .dataframe tbody tr th {\n",
       "        vertical-align: top;\n",
       "    }\n",
       "\n",
       "    .dataframe thead th {\n",
       "        text-align: right;\n",
       "    }\n",
       "</style>\n",
       "<table border=\"1\" class=\"dataframe\">\n",
       "  <thead>\n",
       "    <tr style=\"text-align: right;\">\n",
       "      <th>reservation_status</th>\n",
       "      <th>Canceled</th>\n",
       "      <th>Check-Out</th>\n",
       "      <th>No-Show</th>\n",
       "    </tr>\n",
       "    <tr>\n",
       "      <th>is_canceled</th>\n",
       "      <th></th>\n",
       "      <th></th>\n",
       "      <th></th>\n",
       "    </tr>\n",
       "  </thead>\n",
       "  <tbody>\n",
       "    <tr>\n",
       "      <th>0</th>\n",
       "      <td>0</td>\n",
       "      <td>63371</td>\n",
       "      <td>0</td>\n",
       "    </tr>\n",
       "    <tr>\n",
       "      <th>1</th>\n",
       "      <td>23011</td>\n",
       "      <td>0</td>\n",
       "      <td>1014</td>\n",
       "    </tr>\n",
       "  </tbody>\n",
       "</table>\n",
       "</div>"
      ],
      "text/plain": [
       "reservation_status  Canceled  Check-Out  No-Show\n",
       "is_canceled                                     \n",
       "0                          0      63371        0\n",
       "1                      23011          0     1014"
      ]
     },
     "metadata": {},
     "output_type": "display_data"
    },
    {
     "data": {
      "text/plain": [
       "<matplotlib.axes._subplots.AxesSubplot at 0x1fc64c28908>"
      ]
     },
     "execution_count": 35,
     "metadata": {},
     "output_type": "execute_result"
    },
    {
     "data": {
      "image/png": "[encoded data removed]",
      "text/plain": [
       "<Figure size 864x360 with 1 Axes>"
      ]
     },
     "metadata": {},
     "output_type": "display_data"
    }
   ],
   "source": [
    "## reservation_status vs is_canceled\n",
    "\n",
    "table_reservation_status = pd.crosstab(index=hotel_data[\"is_canceled\"], \n",
    "                                  columns=hotel_data[\"reservation_status\"])\n",
    "\n",
    "display(table_reservation_status )\n",
    "\n",
    "table_reservation_status.plot(kind=\"bar\", \n",
    "                 figsize=(12,5),\n",
    "                 stacked=False,\n",
    "                 width=0.85)"
   ]
  },
  {
   "cell_type": "code",
   "execution_count": null,
   "metadata": {},
   "outputs": [],
   "source": []
  },
  {
   "cell_type": "code",
   "execution_count": 36,
   "metadata": {},
   "outputs": [
    {
     "data": {
      "text/html": [
       "<div>\n",
       "<style scoped>\n",
       "    .dataframe tbody tr th:only-of-type {\n",
       "        vertical-align: middle;\n",
       "    }\n",
       "\n",
       "    .dataframe tbody tr th {\n",
       "        vertical-align: top;\n",
       "    }\n",
       "\n",
       "    .dataframe thead th {\n",
       "        text-align: right;\n",
       "    }\n",
       "</style>\n",
       "<table border=\"1\" class=\"dataframe\">\n",
       "  <thead>\n",
       "    <tr style=\"text-align: right;\">\n",
       "      <th>customer_type</th>\n",
       "      <th>Contract</th>\n",
       "      <th>Group</th>\n",
       "      <th>Transient</th>\n",
       "      <th>Transient-Party</th>\n",
       "    </tr>\n",
       "    <tr>\n",
       "      <th>is_canceled</th>\n",
       "      <th></th>\n",
       "      <th></th>\n",
       "      <th></th>\n",
       "      <th></th>\n",
       "    </tr>\n",
       "  </thead>\n",
       "  <tbody>\n",
       "    <tr>\n",
       "      <th>0</th>\n",
       "      <td>2627</td>\n",
       "      <td>490</td>\n",
       "      <td>50314</td>\n",
       "      <td>9940</td>\n",
       "    </tr>\n",
       "    <tr>\n",
       "      <th>1</th>\n",
       "      <td>512</td>\n",
       "      <td>54</td>\n",
       "      <td>21672</td>\n",
       "      <td>1787</td>\n",
       "    </tr>\n",
       "  </tbody>\n",
       "</table>\n",
       "</div>"
      ],
      "text/plain": [
       "customer_type  Contract  Group  Transient  Transient-Party\n",
       "is_canceled                                               \n",
       "0                  2627    490      50314             9940\n",
       "1                   512     54      21672             1787"
      ]
     },
     "metadata": {},
     "output_type": "display_data"
    },
    {
     "data": {
      "text/plain": [
       "<matplotlib.axes._subplots.AxesSubplot at 0x1fc64e07f88>"
      ]
     },
     "execution_count": 36,
     "metadata": {},
     "output_type": "execute_result"
    },
    {
     "data": {
      "image/png": "[encoded data removed]",
      "text/plain": [
       "<Figure size 576x360 with 1 Axes>"
      ]
     },
     "metadata": {},
     "output_type": "display_data"
    }
   ],
   "source": [
    "## Customer Type Feature\n",
    "# Customer Type\n",
    "table_customer_type = pd.crosstab(index=hotel_data[\"is_canceled\"], \n",
    "                                  columns=hotel_data[\"customer_type\"])\n",
    "\n",
    "display(table_customer_type)\n",
    "\n",
    "table_customer_type.plot(kind=\"bar\", \n",
    "                 figsize=(8,5),\n",
    "                 stacked=False,\n",
    "                        width=0.85)"
   ]
  },
  {
   "cell_type": "code",
   "execution_count": 37,
   "metadata": {},
   "outputs": [
    {
     "data": {
      "text/plain": [
       "<seaborn.axisgrid.FacetGrid at 0x1fc64de9b48>"
      ]
     },
     "execution_count": 37,
     "metadata": {},
     "output_type": "execute_result"
    },
    {
     "data": {
      "image/png": "[encoded data removed]",
      "text/plain": [
       "<Figure size 806.4x252 with 4 Axes>"
      ]
     },
     "metadata": {},
     "output_type": "display_data"
    }
   ],
   "source": [
    "g = sns.catplot(\"is_canceled\", col=\"customer_type\", col_wrap=4,\n",
    "                data=hotel_data[hotel_data['customer_type'].notnull()],\n",
    "                kind=\"count\", height=3.5, aspect=.8, \n",
    "                palette='pastel')\n",
    "\n",
    "\n",
    "g"
   ]
  },
  {
   "cell_type": "code",
   "execution_count": 38,
   "metadata": {},
   "outputs": [
    {
     "data": {
      "text/html": [
       "<div>\n",
       "<style scoped>\n",
       "    .dataframe tbody tr th:only-of-type {\n",
       "        vertical-align: middle;\n",
       "    }\n",
       "\n",
       "    .dataframe tbody tr th {\n",
       "        vertical-align: top;\n",
       "    }\n",
       "\n",
       "    .dataframe thead th {\n",
       "        text-align: right;\n",
       "    }\n",
       "</style>\n",
       "<table border=\"1\" class=\"dataframe\">\n",
       "  <thead>\n",
       "    <tr style=\"text-align: right;\">\n",
       "      <th>market_segment</th>\n",
       "      <th>Aviation</th>\n",
       "      <th>Complementary</th>\n",
       "      <th>Corporate</th>\n",
       "      <th>Direct</th>\n",
       "      <th>Groups</th>\n",
       "      <th>Offline TA/TO</th>\n",
       "      <th>Online TA</th>\n",
       "      <th>Undefined</th>\n",
       "    </tr>\n",
       "    <tr>\n",
       "      <th>is_canceled</th>\n",
       "      <th></th>\n",
       "      <th></th>\n",
       "      <th></th>\n",
       "      <th></th>\n",
       "      <th></th>\n",
       "      <th></th>\n",
       "      <th></th>\n",
       "      <th></th>\n",
       "    </tr>\n",
       "  </thead>\n",
       "  <tbody>\n",
       "    <tr>\n",
       "      <th>0</th>\n",
       "      <td>182</td>\n",
       "      <td>614</td>\n",
       "      <td>3702</td>\n",
       "      <td>10067</td>\n",
       "      <td>3607</td>\n",
       "      <td>11826</td>\n",
       "      <td>33373</td>\n",
       "      <td>0</td>\n",
       "    </tr>\n",
       "    <tr>\n",
       "      <th>1</th>\n",
       "      <td>45</td>\n",
       "      <td>88</td>\n",
       "      <td>510</td>\n",
       "      <td>1737</td>\n",
       "      <td>1335</td>\n",
       "      <td>2063</td>\n",
       "      <td>18245</td>\n",
       "      <td>2</td>\n",
       "    </tr>\n",
       "  </tbody>\n",
       "</table>\n",
       "</div>"
      ],
      "text/plain": [
       "market_segment  Aviation  Complementary  Corporate  Direct  Groups  \\\n",
       "is_canceled                                                          \n",
       "0                    182            614       3702   10067    3607   \n",
       "1                     45             88        510    1737    1335   \n",
       "\n",
       "market_segment  Offline TA/TO  Online TA  Undefined  \n",
       "is_canceled                                          \n",
       "0                       11826      33373          0  \n",
       "1                        2063      18245          2  "
      ]
     },
     "metadata": {},
     "output_type": "display_data"
    },
    {
     "data": {
      "text/plain": [
       "<matplotlib.axes._subplots.AxesSubplot at 0x1fc65199308>"
      ]
     },
     "execution_count": 38,
     "metadata": {},
     "output_type": "execute_result"
    },
    {
     "data": {
      "image/png": "[encoded data removed]",
      "text/plain": [
       "<Figure size 720x360 with 1 Axes>"
      ]
     },
     "metadata": {},
     "output_type": "display_data"
    }
   ],
   "source": [
    "# Market segment\n",
    "table_market_segment = pd.crosstab(index=hotel_data[\"is_canceled\"], \n",
    "                                  columns=hotel_data[\"market_segment\"])\n",
    "\n",
    "display(table_market_segment)\n",
    "\n",
    "table_market_segment.plot(kind=\"bar\", \n",
    "                 figsize=(10,5),\n",
    "                 stacked=False,\n",
    "                         width=1)"
   ]
  },
  {
   "cell_type": "code",
   "execution_count": 39,
   "metadata": {},
   "outputs": [
    {
     "data": {
      "image/png": "[encoded data removed]",
      "text/plain": [
       "<Figure size 1080x720 with 1 Axes>"
      ]
     },
     "metadata": {},
     "output_type": "display_data"
    }
   ],
   "source": [
    "plt.figure(figsize = (15, 10))\n",
    "sns.boxplot(x = \"customer_type\", y = \"stays_in_week_nights\", data = hotel_data, hue = \"hotel\", palette = 'Set1');"
   ]
  },
  {
   "cell_type": "code",
   "execution_count": null,
   "metadata": {},
   "outputs": [],
   "source": []
  },
  {
   "cell_type": "code",
   "execution_count": null,
   "metadata": {},
   "outputs": [],
   "source": []
  },
  {
   "cell_type": "code",
   "execution_count": 40,
   "metadata": {},
   "outputs": [
    {
     "data": {
      "image/png": "[encoded data removed]",
      "text/plain": [
       "<Figure size 1152x720 with 2 Axes>"
      ]
     },
     "metadata": {},
     "output_type": "display_data"
    }
   ],
   "source": [
    "# Subsetting by is_canceled!\n",
    "canceled = hotel_data[\"is_canceled\"] == 1\n",
    "not_canceled = hotel_data[\"is_canceled\"] == 0\n",
    "\n",
    "# Creating the plots\n",
    "# features = ['lead_time', 'adr', \n",
    "#             'previous_cancellations', 'previous_bookings_not_canceled',\n",
    "#            'is_repeated_guest']\n",
    "features = ['lead_time', 'adr']\n",
    "labels = ['Canceled', 'Not canceled']\n",
    "\n",
    "def creating_plots(features, labels):\n",
    "    plt.figure(figsize=(16,10))\n",
    "    for feature in features:\n",
    "        plt.subplot(3, 2, features.index(feature)+1)\n",
    "        sns.distplot(new_hotel_data[feature][canceled], label=labels[0], color=\"b\", kde_kws={'bw':2})\n",
    "        sns.distplot(new_hotel_data[feature][not_canceled], label=labels[1], color=\"y\", kde_kws={'bw':2})\n",
    "        plt.axvline(new_hotel_data[feature][canceled].mean(), linestyle = '--', color=\"b\")\n",
    "        plt.axvline(new_hotel_data[feature][not_canceled].mean(), linestyle = '--', color=\"y\")\n",
    "        plt.legend()\n",
    "\n",
    "creating_plots(features, labels)"
   ]
  },
  {
   "cell_type": "code",
   "execution_count": 41,
   "metadata": {},
   "outputs": [],
   "source": [
    "data = hotel_data.copy()"
   ]
  },
  {
   "cell_type": "markdown",
   "metadata": {},
   "source": [
    "### 2.6 Re-encoding Some Features\n",
    "#### <font color=green>Feature Engineering</font>"
   ]
  },
  {
   "cell_type": "code",
   "execution_count": null,
   "metadata": {
    "scrolled": true
   },
   "outputs": [],
   "source": []
  },
  {
   "cell_type": "code",
   "execution_count": 42,
   "metadata": {},
   "outputs": [
    {
     "data": {
      "text/plain": [
       "2016    42391\n",
       "2017    31692\n",
       "2015    13313\n",
       "Name: arrival_date_year, dtype: int64"
      ]
     },
     "execution_count": 42,
     "metadata": {},
     "output_type": "execute_result"
    }
   ],
   "source": [
    "data['arrival_date_year'].value_counts(dropna=False)"
   ]
  },
  {
   "cell_type": "code",
   "execution_count": 43,
   "metadata": {},
   "outputs": [],
   "source": [
    "# Encode 'arrival_date_year' feature\n",
    "# \"2015\", \"2016\", \"2017\" are the big number and will effect model learning\n",
    "data = data.replace({'arrival_date_year': {2015: '2015', 2016: '2016', 2017: '2017'}})\n",
    "# data.info()"
   ]
  },
  {
   "cell_type": "markdown",
   "metadata": {},
   "source": [
    "stays_in_weekend_nights"
   ]
  },
  {
   "cell_type": "code",
   "execution_count": 44,
   "metadata": {},
   "outputs": [
    {
     "data": {
      "text/plain": [
       "0     35151\n",
       "2     26414\n",
       "1     22657\n",
       "4      1734\n",
       "3      1150\n",
       "6       113\n",
       "5        70\n",
       "8        60\n",
       "7        15\n",
       "9        10\n",
       "10        7\n",
       "12        5\n",
       "13        3\n",
       "16        3\n",
       "14        2\n",
       "18        1\n",
       "19        1\n",
       "Name: stays_in_weekend_nights, dtype: int64"
      ]
     },
     "execution_count": 44,
     "metadata": {},
     "output_type": "execute_result"
    }
   ],
   "source": [
    "data['stays_in_weekend_nights'].value_counts(dropna=False)"
   ]
  },
  {
   "cell_type": "code",
   "execution_count": 45,
   "metadata": {},
   "outputs": [],
   "source": [
    "# Encode 'stays_in_weekend_nights' feature\n",
    "data['stays_in_weekend_nights'] = ['0 weekend night' if x == 0\n",
    "                 else '1 weekend night' if x == 1\n",
    "                 else '2 weekend night' if x == 2\n",
    "                 else '3 weekend night' if x == 3\n",
    "                 else '4 weekend night' if x == 4\n",
    "                 else '5 weekend night' if x == 5                 \n",
    "                 else 'N/A'\n",
    "                 for x in data['stays_in_weekend_nights']]"
   ]
  },
  {
   "cell_type": "code",
   "execution_count": 46,
   "metadata": {},
   "outputs": [],
   "source": [
    "# Encode 'stays_in_week_nights' feature\n",
    "data['stays_in_week_nights'] = ['0 week night' if x == 0\n",
    "                 else '1 week night' if x == 1\n",
    "                 else '2 week night' if x == 2\n",
    "                 else '3 week night' if x == 3\n",
    "                 else '4 week night' if x == 4\n",
    "                 else '5 week night' if x == 5\n",
    "                 else '6 week night' if x == 6\n",
    "                 else '7 week night' if x == 7\n",
    "                 else '8 week night' if x == 8\n",
    "                 else '9 week night' if x == 9\n",
    "                 else '10 week night' if x == 10\n",
    "                 else 'N/A'\n",
    "                 for x in data['stays_in_week_nights']]"
   ]
  },
  {
   "cell_type": "code",
   "execution_count": 47,
   "metadata": {},
   "outputs": [],
   "source": [
    "# Encode 'adults' feature\n",
    "data['adults'] = ['0 adult' if x == 0\n",
    "                 else '1 adult' if x == 1\n",
    "                 else '2 adults' if x == 2\n",
    "                 else '3 adults' if x == 3\n",
    "                 else '4 adults' if x == 4\n",
    "                 else '5 adults' if x == 5\n",
    "                 else 'N/A'\n",
    "                 for x in data['adults']]"
   ]
  },
  {
   "cell_type": "code",
   "execution_count": 48,
   "metadata": {},
   "outputs": [],
   "source": [
    "# Encode 'babies' feature\n",
    "data['babies'] = ['0 babies' if x == 0\n",
    "                 else '1 baby' if x == 1\n",
    "                 else '2 babies' if x == 2\n",
    "                 else 'N/A'\n",
    "                 for x in data['babies']]"
   ]
  },
  {
   "cell_type": "code",
   "execution_count": null,
   "metadata": {},
   "outputs": [],
   "source": []
  },
  {
   "cell_type": "code",
   "execution_count": null,
   "metadata": {},
   "outputs": [],
   "source": []
  },
  {
   "cell_type": "code",
   "execution_count": null,
   "metadata": {},
   "outputs": [],
   "source": []
  },
  {
   "cell_type": "code",
   "execution_count": 49,
   "metadata": {},
   "outputs": [
    {
     "name": "stdout",
     "output_type": "stream",
     "text": [
      "\n",
      "Summary of Statistics for numerical columns: \n"
     ]
    },
    {
     "data": {
      "text/html": [
       "<div>\n",
       "<style scoped>\n",
       "    .dataframe tbody tr th:only-of-type {\n",
       "        vertical-align: middle;\n",
       "    }\n",
       "\n",
       "    .dataframe tbody tr th {\n",
       "        vertical-align: top;\n",
       "    }\n",
       "\n",
       "    .dataframe thead th {\n",
       "        text-align: right;\n",
       "    }\n",
       "</style>\n",
       "<table border=\"1\" class=\"dataframe\">\n",
       "  <thead>\n",
       "    <tr style=\"text-align: right;\">\n",
       "      <th></th>\n",
       "      <th>count</th>\n",
       "      <th>mean</th>\n",
       "      <th>std</th>\n",
       "      <th>min</th>\n",
       "      <th>25%</th>\n",
       "      <th>50%</th>\n",
       "      <th>75%</th>\n",
       "      <th>max</th>\n",
       "    </tr>\n",
       "  </thead>\n",
       "  <tbody>\n",
       "    <tr>\n",
       "      <th>is_canceled</th>\n",
       "      <td>87396.0</td>\n",
       "      <td>0.274898</td>\n",
       "      <td>0.446466</td>\n",
       "      <td>0.00</td>\n",
       "      <td>0.0</td>\n",
       "      <td>0.0</td>\n",
       "      <td>1.0</td>\n",
       "      <td>1.0</td>\n",
       "    </tr>\n",
       "    <tr>\n",
       "      <th>lead_time</th>\n",
       "      <td>87396.0</td>\n",
       "      <td>79.891368</td>\n",
       "      <td>86.052325</td>\n",
       "      <td>0.00</td>\n",
       "      <td>11.0</td>\n",
       "      <td>49.0</td>\n",
       "      <td>125.0</td>\n",
       "      <td>737.0</td>\n",
       "    </tr>\n",
       "    <tr>\n",
       "      <th>arrival_date_week_number</th>\n",
       "      <td>87396.0</td>\n",
       "      <td>26.838334</td>\n",
       "      <td>13.674572</td>\n",
       "      <td>1.00</td>\n",
       "      <td>16.0</td>\n",
       "      <td>27.0</td>\n",
       "      <td>37.0</td>\n",
       "      <td>53.0</td>\n",
       "    </tr>\n",
       "    <tr>\n",
       "      <th>arrival_date_day_of_month</th>\n",
       "      <td>87396.0</td>\n",
       "      <td>15.815541</td>\n",
       "      <td>8.835146</td>\n",
       "      <td>1.00</td>\n",
       "      <td>8.0</td>\n",
       "      <td>16.0</td>\n",
       "      <td>23.0</td>\n",
       "      <td>31.0</td>\n",
       "    </tr>\n",
       "    <tr>\n",
       "      <th>children</th>\n",
       "      <td>87396.0</td>\n",
       "      <td>0.138576</td>\n",
       "      <td>0.454695</td>\n",
       "      <td>0.00</td>\n",
       "      <td>0.0</td>\n",
       "      <td>0.0</td>\n",
       "      <td>0.0</td>\n",
       "      <td>3.0</td>\n",
       "    </tr>\n",
       "    <tr>\n",
       "      <th>is_repeated_guest</th>\n",
       "      <td>87396.0</td>\n",
       "      <td>0.039075</td>\n",
       "      <td>0.193775</td>\n",
       "      <td>0.00</td>\n",
       "      <td>0.0</td>\n",
       "      <td>0.0</td>\n",
       "      <td>0.0</td>\n",
       "      <td>1.0</td>\n",
       "    </tr>\n",
       "    <tr>\n",
       "      <th>previous_cancellations</th>\n",
       "      <td>87396.0</td>\n",
       "      <td>0.030413</td>\n",
       "      <td>0.369145</td>\n",
       "      <td>0.00</td>\n",
       "      <td>0.0</td>\n",
       "      <td>0.0</td>\n",
       "      <td>0.0</td>\n",
       "      <td>26.0</td>\n",
       "    </tr>\n",
       "    <tr>\n",
       "      <th>previous_bookings_not_canceled</th>\n",
       "      <td>87396.0</td>\n",
       "      <td>0.183990</td>\n",
       "      <td>1.731894</td>\n",
       "      <td>0.00</td>\n",
       "      <td>0.0</td>\n",
       "      <td>0.0</td>\n",
       "      <td>0.0</td>\n",
       "      <td>72.0</td>\n",
       "    </tr>\n",
       "    <tr>\n",
       "      <th>booking_changes</th>\n",
       "      <td>87396.0</td>\n",
       "      <td>0.271603</td>\n",
       "      <td>0.727245</td>\n",
       "      <td>0.00</td>\n",
       "      <td>0.0</td>\n",
       "      <td>0.0</td>\n",
       "      <td>0.0</td>\n",
       "      <td>21.0</td>\n",
       "    </tr>\n",
       "    <tr>\n",
       "      <th>days_in_waiting_list</th>\n",
       "      <td>87396.0</td>\n",
       "      <td>0.749565</td>\n",
       "      <td>10.015731</td>\n",
       "      <td>0.00</td>\n",
       "      <td>0.0</td>\n",
       "      <td>0.0</td>\n",
       "      <td>0.0</td>\n",
       "      <td>391.0</td>\n",
       "    </tr>\n",
       "    <tr>\n",
       "      <th>adr</th>\n",
       "      <td>87396.0</td>\n",
       "      <td>106.337246</td>\n",
       "      <td>55.013953</td>\n",
       "      <td>-6.38</td>\n",
       "      <td>72.0</td>\n",
       "      <td>98.1</td>\n",
       "      <td>134.0</td>\n",
       "      <td>5400.0</td>\n",
       "    </tr>\n",
       "    <tr>\n",
       "      <th>required_car_parking_spaces</th>\n",
       "      <td>87396.0</td>\n",
       "      <td>0.084226</td>\n",
       "      <td>0.281533</td>\n",
       "      <td>0.00</td>\n",
       "      <td>0.0</td>\n",
       "      <td>0.0</td>\n",
       "      <td>0.0</td>\n",
       "      <td>8.0</td>\n",
       "    </tr>\n",
       "    <tr>\n",
       "      <th>total_of_special_requests</th>\n",
       "      <td>87396.0</td>\n",
       "      <td>0.698567</td>\n",
       "      <td>0.831946</td>\n",
       "      <td>0.00</td>\n",
       "      <td>0.0</td>\n",
       "      <td>0.0</td>\n",
       "      <td>1.0</td>\n",
       "      <td>5.0</td>\n",
       "    </tr>\n",
       "  </tbody>\n",
       "</table>\n",
       "</div>"
      ],
      "text/plain": [
       "                                  count        mean        std   min   25%  \\\n",
       "is_canceled                     87396.0    0.274898   0.446466  0.00   0.0   \n",
       "lead_time                       87396.0   79.891368  86.052325  0.00  11.0   \n",
       "arrival_date_week_number        87396.0   26.838334  13.674572  1.00  16.0   \n",
       "arrival_date_day_of_month       87396.0   15.815541   8.835146  1.00   8.0   \n",
       "children                        87396.0    0.138576   0.454695  0.00   0.0   \n",
       "is_repeated_guest               87396.0    0.039075   0.193775  0.00   0.0   \n",
       "previous_cancellations          87396.0    0.030413   0.369145  0.00   0.0   \n",
       "previous_bookings_not_canceled  87396.0    0.183990   1.731894  0.00   0.0   \n",
       "booking_changes                 87396.0    0.271603   0.727245  0.00   0.0   \n",
       "days_in_waiting_list            87396.0    0.749565  10.015731  0.00   0.0   \n",
       "adr                             87396.0  106.337246  55.013953 -6.38  72.0   \n",
       "required_car_parking_spaces     87396.0    0.084226   0.281533  0.00   0.0   \n",
       "total_of_special_requests       87396.0    0.698567   0.831946  0.00   0.0   \n",
       "\n",
       "                                 50%    75%     max  \n",
       "is_canceled                      0.0    1.0     1.0  \n",
       "lead_time                       49.0  125.0   737.0  \n",
       "arrival_date_week_number        27.0   37.0    53.0  \n",
       "arrival_date_day_of_month       16.0   23.0    31.0  \n",
       "children                         0.0    0.0     3.0  \n",
       "is_repeated_guest                0.0    0.0     1.0  \n",
       "previous_cancellations           0.0    0.0    26.0  \n",
       "previous_bookings_not_canceled   0.0    0.0    72.0  \n",
       "booking_changes                  0.0    0.0    21.0  \n",
       "days_in_waiting_list             0.0    0.0   391.0  \n",
       "adr                             98.1  134.0  5400.0  \n",
       "required_car_parking_spaces      0.0    0.0     8.0  \n",
       "total_of_special_requests        0.0    1.0     5.0  "
      ]
     },
     "metadata": {},
     "output_type": "display_data"
    },
    {
     "name": "stdout",
     "output_type": "stream",
     "text": [
      "\n",
      "Summary of Statistics for categorical columns: \n"
     ]
    },
    {
     "data": {
      "text/html": [
       "<div>\n",
       "<style scoped>\n",
       "    .dataframe tbody tr th:only-of-type {\n",
       "        vertical-align: middle;\n",
       "    }\n",
       "\n",
       "    .dataframe tbody tr th {\n",
       "        vertical-align: top;\n",
       "    }\n",
       "\n",
       "    .dataframe thead th {\n",
       "        text-align: right;\n",
       "    }\n",
       "</style>\n",
       "<table border=\"1\" class=\"dataframe\">\n",
       "  <thead>\n",
       "    <tr style=\"text-align: right;\">\n",
       "      <th></th>\n",
       "      <th>count</th>\n",
       "      <th>unique</th>\n",
       "      <th>top</th>\n",
       "      <th>freq</th>\n",
       "    </tr>\n",
       "  </thead>\n",
       "  <tbody>\n",
       "    <tr>\n",
       "      <th>hotel</th>\n",
       "      <td>87396</td>\n",
       "      <td>2</td>\n",
       "      <td>City Hotel</td>\n",
       "      <td>53428</td>\n",
       "    </tr>\n",
       "    <tr>\n",
       "      <th>arrival_date_year</th>\n",
       "      <td>87396</td>\n",
       "      <td>3</td>\n",
       "      <td>2016</td>\n",
       "      <td>42391</td>\n",
       "    </tr>\n",
       "    <tr>\n",
       "      <th>arrival_date_month</th>\n",
       "      <td>87396</td>\n",
       "      <td>12</td>\n",
       "      <td>August</td>\n",
       "      <td>11257</td>\n",
       "    </tr>\n",
       "    <tr>\n",
       "      <th>stays_in_weekend_nights</th>\n",
       "      <td>87396</td>\n",
       "      <td>7</td>\n",
       "      <td>0 weekend night</td>\n",
       "      <td>35151</td>\n",
       "    </tr>\n",
       "    <tr>\n",
       "      <th>stays_in_week_nights</th>\n",
       "      <td>87396</td>\n",
       "      <td>12</td>\n",
       "      <td>1 week night</td>\n",
       "      <td>22191</td>\n",
       "    </tr>\n",
       "    <tr>\n",
       "      <th>adults</th>\n",
       "      <td>87396</td>\n",
       "      <td>7</td>\n",
       "      <td>2 adults</td>\n",
       "      <td>64497</td>\n",
       "    </tr>\n",
       "    <tr>\n",
       "      <th>babies</th>\n",
       "      <td>87396</td>\n",
       "      <td>4</td>\n",
       "      <td>0 babies</td>\n",
       "      <td>86482</td>\n",
       "    </tr>\n",
       "    <tr>\n",
       "      <th>meal</th>\n",
       "      <td>87396</td>\n",
       "      <td>5</td>\n",
       "      <td>BB</td>\n",
       "      <td>67978</td>\n",
       "    </tr>\n",
       "    <tr>\n",
       "      <th>market_segment</th>\n",
       "      <td>87396</td>\n",
       "      <td>8</td>\n",
       "      <td>Online TA</td>\n",
       "      <td>51618</td>\n",
       "    </tr>\n",
       "    <tr>\n",
       "      <th>distribution_channel</th>\n",
       "      <td>87396</td>\n",
       "      <td>5</td>\n",
       "      <td>TA/TO</td>\n",
       "      <td>69141</td>\n",
       "    </tr>\n",
       "    <tr>\n",
       "      <th>reserved_room_type</th>\n",
       "      <td>87396</td>\n",
       "      <td>10</td>\n",
       "      <td>A</td>\n",
       "      <td>56552</td>\n",
       "    </tr>\n",
       "    <tr>\n",
       "      <th>assigned_room_type</th>\n",
       "      <td>87396</td>\n",
       "      <td>12</td>\n",
       "      <td>A</td>\n",
       "      <td>46313</td>\n",
       "    </tr>\n",
       "    <tr>\n",
       "      <th>deposit_type</th>\n",
       "      <td>87396</td>\n",
       "      <td>3</td>\n",
       "      <td>No Deposit</td>\n",
       "      <td>86251</td>\n",
       "    </tr>\n",
       "    <tr>\n",
       "      <th>customer_type</th>\n",
       "      <td>87396</td>\n",
       "      <td>4</td>\n",
       "      <td>Transient</td>\n",
       "      <td>71986</td>\n",
       "    </tr>\n",
       "    <tr>\n",
       "      <th>reservation_status</th>\n",
       "      <td>87396</td>\n",
       "      <td>3</td>\n",
       "      <td>Check-Out</td>\n",
       "      <td>63371</td>\n",
       "    </tr>\n",
       "    <tr>\n",
       "      <th>reservation_status_date</th>\n",
       "      <td>87396</td>\n",
       "      <td>926</td>\n",
       "      <td>2016-02-14</td>\n",
       "      <td>211</td>\n",
       "    </tr>\n",
       "  </tbody>\n",
       "</table>\n",
       "</div>"
      ],
      "text/plain": [
       "                         count unique              top   freq\n",
       "hotel                    87396      2       City Hotel  53428\n",
       "arrival_date_year        87396      3             2016  42391\n",
       "arrival_date_month       87396     12           August  11257\n",
       "stays_in_weekend_nights  87396      7  0 weekend night  35151\n",
       "stays_in_week_nights     87396     12     1 week night  22191\n",
       "adults                   87396      7         2 adults  64497\n",
       "babies                   87396      4         0 babies  86482\n",
       "meal                     87396      5               BB  67978\n",
       "market_segment           87396      8        Online TA  51618\n",
       "distribution_channel     87396      5            TA/TO  69141\n",
       "reserved_room_type       87396     10                A  56552\n",
       "assigned_room_type       87396     12                A  46313\n",
       "deposit_type             87396      3       No Deposit  86251\n",
       "customer_type            87396      4        Transient  71986\n",
       "reservation_status       87396      3        Check-Out  63371\n",
       "reservation_status_date  87396    926       2016-02-14    211"
      ]
     },
     "metadata": {},
     "output_type": "display_data"
    }
   ],
   "source": [
    "## Summary of numerical features\n",
    "print(\"\\nSummary of Statistics for numerical columns: \")\n",
    "display(data.describe(include = [np.number]).T)\n",
    "\n",
    "## Summary of categorical features\n",
    "print(\"\\nSummary of Statistics for categorical columns: \")\n",
    "display(data.describe(include = ['O']).T)"
   ]
  },
  {
   "cell_type": "code",
   "execution_count": 50,
   "metadata": {},
   "outputs": [
    {
     "data": {
      "text/plain": [
       "['hotel',\n",
       " 'is_canceled',\n",
       " 'lead_time',\n",
       " 'arrival_date_year',\n",
       " 'arrival_date_month',\n",
       " 'arrival_date_week_number',\n",
       " 'arrival_date_day_of_month',\n",
       " 'stays_in_weekend_nights',\n",
       " 'stays_in_week_nights',\n",
       " 'adults',\n",
       " 'children',\n",
       " 'babies',\n",
       " 'meal',\n",
       " 'market_segment',\n",
       " 'distribution_channel',\n",
       " 'is_repeated_guest',\n",
       " 'previous_cancellations',\n",
       " 'previous_bookings_not_canceled',\n",
       " 'reserved_room_type',\n",
       " 'assigned_room_type',\n",
       " 'booking_changes',\n",
       " 'deposit_type',\n",
       " 'days_in_waiting_list',\n",
       " 'customer_type',\n",
       " 'adr',\n",
       " 'required_car_parking_spaces',\n",
       " 'total_of_special_requests',\n",
       " 'reservation_status']"
      ]
     },
     "execution_count": 50,
     "metadata": {},
     "output_type": "execute_result"
    }
   ],
   "source": [
    "data = data.drop('reservation_status_date', axis=1)\n",
    "data.columns.tolist()"
   ]
  },
  {
   "cell_type": "code",
   "execution_count": null,
   "metadata": {},
   "outputs": [],
   "source": []
  },
  {
   "cell_type": "markdown",
   "metadata": {},
   "source": [
    "## 3. Feature Selection \n",
    "### 3.1 Numerical Columns\n",
    "- A. Correlation Matrix and Heat-Map\n",
    "- B. Recursive Feature Elimination\n",
    "- C. Feature Importance (ExtraTreesClassifier())"
   ]
  },
  {
   "cell_type": "markdown",
   "metadata": {},
   "source": [
    "### A. Correlation Matrix and Heat-Map"
   ]
  },
  {
   "cell_type": "code",
   "execution_count": 51,
   "metadata": {
    "scrolled": false
   },
   "outputs": [
    {
     "name": "stdout",
     "output_type": "stream",
     "text": [
      " Heat map for categorical columns: \n"
     ]
    },
    {
     "data": {
      "text/plain": [
       "<matplotlib.axes._subplots.AxesSubplot at 0x1fc657dc408>"
      ]
     },
     "metadata": {},
     "output_type": "display_data"
    },
    {
     "data": {
      "image/png": "[encoded data removed]",
      "text/plain": [
       "<Figure size 1080x864 with 2 Axes>"
      ]
     },
     "metadata": {},
     "output_type": "display_data"
    }
   ],
   "source": [
    "### Correlation\n",
    "\n",
    "corr_matrix = data.corr()\n",
    "# display(corr_matrix)\n",
    "\n",
    "print(\" Heat map for categorical columns: \")\n",
    "plt.subplots(figsize=(15,12))\n",
    "display(sns.heatmap(corr_matrix, annot = True, cmap= 'coolwarm'))"
   ]
  },
  {
   "cell_type": "markdown",
   "metadata": {},
   "source": [
    "#### Sort out the Important Numerical Features"
   ]
  },
  {
   "cell_type": "code",
   "execution_count": 52,
   "metadata": {},
   "outputs": [
    {
     "data": {
      "text/plain": [
       "is_canceled                       1.000000\n",
       "lead_time                         0.184806\n",
       "required_car_parking_spaces       0.184206\n",
       "adr                               0.127986\n",
       "total_of_special_requests         0.120545\n",
       "booking_changes                   0.093644\n",
       "is_repeated_guest                 0.089643\n",
       "children                          0.067339\n",
       "previous_bookings_not_canceled    0.052154\n",
       "previous_cancellations            0.051468\n",
       "arrival_date_day_of_month         0.005328\n",
       "days_in_waiting_list              0.004464\n",
       "arrival_date_week_number          0.001443\n",
       "Name: is_canceled, dtype: float64"
      ]
     },
     "execution_count": 52,
     "metadata": {},
     "output_type": "execute_result"
    }
   ],
   "source": [
    "num_fea_corr = data.corr()[\"is_canceled\"]\n",
    "num_fea_corr.abs().sort_values(ascending=False)"
   ]
  },
  {
   "cell_type": "markdown",
   "metadata": {},
   "source": [
    "### B. Recursive Feature Elimination"
   ]
  },
  {
   "cell_type": "code",
   "execution_count": 53,
   "metadata": {},
   "outputs": [
    {
     "data": {
      "text/html": [
       "<div>\n",
       "<style scoped>\n",
       "    .dataframe tbody tr th:only-of-type {\n",
       "        vertical-align: middle;\n",
       "    }\n",
       "\n",
       "    .dataframe tbody tr th {\n",
       "        vertical-align: top;\n",
       "    }\n",
       "\n",
       "    .dataframe thead th {\n",
       "        text-align: right;\n",
       "    }\n",
       "</style>\n",
       "<table border=\"1\" class=\"dataframe\">\n",
       "  <thead>\n",
       "    <tr style=\"text-align: right;\">\n",
       "      <th></th>\n",
       "      <th>lead_time</th>\n",
       "      <th>arrival_date_week_number</th>\n",
       "      <th>arrival_date_day_of_month</th>\n",
       "      <th>children</th>\n",
       "      <th>is_repeated_guest</th>\n",
       "      <th>previous_cancellations</th>\n",
       "      <th>previous_bookings_not_canceled</th>\n",
       "      <th>booking_changes</th>\n",
       "      <th>days_in_waiting_list</th>\n",
       "      <th>adr</th>\n",
       "      <th>required_car_parking_spaces</th>\n",
       "      <th>total_of_special_requests</th>\n",
       "    </tr>\n",
       "  </thead>\n",
       "  <tbody>\n",
       "    <tr>\n",
       "      <th>0</th>\n",
       "      <td>342</td>\n",
       "      <td>27</td>\n",
       "      <td>1</td>\n",
       "      <td>0.0</td>\n",
       "      <td>0</td>\n",
       "      <td>0</td>\n",
       "      <td>0</td>\n",
       "      <td>3</td>\n",
       "      <td>0</td>\n",
       "      <td>0.0</td>\n",
       "      <td>0</td>\n",
       "      <td>0</td>\n",
       "    </tr>\n",
       "    <tr>\n",
       "      <th>1</th>\n",
       "      <td>737</td>\n",
       "      <td>27</td>\n",
       "      <td>1</td>\n",
       "      <td>0.0</td>\n",
       "      <td>0</td>\n",
       "      <td>0</td>\n",
       "      <td>0</td>\n",
       "      <td>4</td>\n",
       "      <td>0</td>\n",
       "      <td>0.0</td>\n",
       "      <td>0</td>\n",
       "      <td>0</td>\n",
       "    </tr>\n",
       "    <tr>\n",
       "      <th>2</th>\n",
       "      <td>7</td>\n",
       "      <td>27</td>\n",
       "      <td>1</td>\n",
       "      <td>0.0</td>\n",
       "      <td>0</td>\n",
       "      <td>0</td>\n",
       "      <td>0</td>\n",
       "      <td>0</td>\n",
       "      <td>0</td>\n",
       "      <td>75.0</td>\n",
       "      <td>0</td>\n",
       "      <td>0</td>\n",
       "    </tr>\n",
       "    <tr>\n",
       "      <th>3</th>\n",
       "      <td>13</td>\n",
       "      <td>27</td>\n",
       "      <td>1</td>\n",
       "      <td>0.0</td>\n",
       "      <td>0</td>\n",
       "      <td>0</td>\n",
       "      <td>0</td>\n",
       "      <td>0</td>\n",
       "      <td>0</td>\n",
       "      <td>75.0</td>\n",
       "      <td>0</td>\n",
       "      <td>0</td>\n",
       "    </tr>\n",
       "    <tr>\n",
       "      <th>4</th>\n",
       "      <td>14</td>\n",
       "      <td>27</td>\n",
       "      <td>1</td>\n",
       "      <td>0.0</td>\n",
       "      <td>0</td>\n",
       "      <td>0</td>\n",
       "      <td>0</td>\n",
       "      <td>0</td>\n",
       "      <td>0</td>\n",
       "      <td>98.0</td>\n",
       "      <td>0</td>\n",
       "      <td>1</td>\n",
       "    </tr>\n",
       "  </tbody>\n",
       "</table>\n",
       "</div>"
      ],
      "text/plain": [
       "   lead_time  arrival_date_week_number  arrival_date_day_of_month  children  \\\n",
       "0        342                        27                          1       0.0   \n",
       "1        737                        27                          1       0.0   \n",
       "2          7                        27                          1       0.0   \n",
       "3         13                        27                          1       0.0   \n",
       "4         14                        27                          1       0.0   \n",
       "\n",
       "   is_repeated_guest  previous_cancellations  previous_bookings_not_canceled  \\\n",
       "0                  0                       0                               0   \n",
       "1                  0                       0                               0   \n",
       "2                  0                       0                               0   \n",
       "3                  0                       0                               0   \n",
       "4                  0                       0                               0   \n",
       "\n",
       "   booking_changes  days_in_waiting_list   adr  required_car_parking_spaces  \\\n",
       "0                3                     0   0.0                            0   \n",
       "1                4                     0   0.0                            0   \n",
       "2                0                     0  75.0                            0   \n",
       "3                0                     0  75.0                            0   \n",
       "4                0                     0  98.0                            0   \n",
       "\n",
       "   total_of_special_requests  \n",
       "0                          0  \n",
       "1                          0  \n",
       "2                          0  \n",
       "3                          0  \n",
       "4                          1  "
      ]
     },
     "metadata": {},
     "output_type": "display_data"
    },
    {
     "data": {
      "text/html": [
       "<div>\n",
       "<style scoped>\n",
       "    .dataframe tbody tr th:only-of-type {\n",
       "        vertical-align: middle;\n",
       "    }\n",
       "\n",
       "    .dataframe tbody tr th {\n",
       "        vertical-align: top;\n",
       "    }\n",
       "\n",
       "    .dataframe thead th {\n",
       "        text-align: right;\n",
       "    }\n",
       "</style>\n",
       "<table border=\"1\" class=\"dataframe\">\n",
       "  <thead>\n",
       "    <tr style=\"text-align: right;\">\n",
       "      <th></th>\n",
       "      <th>lead_time</th>\n",
       "      <th>arrival_date_week_number</th>\n",
       "      <th>arrival_date_day_of_month</th>\n",
       "      <th>children</th>\n",
       "      <th>is_repeated_guest</th>\n",
       "      <th>previous_cancellations</th>\n",
       "      <th>previous_bookings_not_canceled</th>\n",
       "      <th>booking_changes</th>\n",
       "      <th>days_in_waiting_list</th>\n",
       "      <th>adr</th>\n",
       "      <th>required_car_parking_spaces</th>\n",
       "      <th>total_of_special_requests</th>\n",
       "    </tr>\n",
       "  </thead>\n",
       "  <tbody>\n",
       "    <tr>\n",
       "      <th>0</th>\n",
       "      <td>3.045939</td>\n",
       "      <td>0.011822</td>\n",
       "      <td>-1.676896</td>\n",
       "      <td>-0.304769</td>\n",
       "      <td>-0.201653</td>\n",
       "      <td>-0.082389</td>\n",
       "      <td>-0.106237</td>\n",
       "      <td>3.751709</td>\n",
       "      <td>-0.074839</td>\n",
       "      <td>-1.932925</td>\n",
       "      <td>-0.29917</td>\n",
       "      <td>-0.839684</td>\n",
       "    </tr>\n",
       "    <tr>\n",
       "      <th>1</th>\n",
       "      <td>7.636196</td>\n",
       "      <td>0.011822</td>\n",
       "      <td>-1.676896</td>\n",
       "      <td>-0.304769</td>\n",
       "      <td>-0.201653</td>\n",
       "      <td>-0.082389</td>\n",
       "      <td>-0.106237</td>\n",
       "      <td>5.126769</td>\n",
       "      <td>-0.074839</td>\n",
       "      <td>-1.932925</td>\n",
       "      <td>-0.29917</td>\n",
       "      <td>-0.839684</td>\n",
       "    </tr>\n",
       "    <tr>\n",
       "      <th>2</th>\n",
       "      <td>-0.847064</td>\n",
       "      <td>0.011822</td>\n",
       "      <td>-1.676896</td>\n",
       "      <td>-0.304769</td>\n",
       "      <td>-0.201653</td>\n",
       "      <td>-0.082389</td>\n",
       "      <td>-0.106237</td>\n",
       "      <td>-0.373470</td>\n",
       "      <td>-0.074839</td>\n",
       "      <td>-0.569627</td>\n",
       "      <td>-0.29917</td>\n",
       "      <td>-0.839684</td>\n",
       "    </tr>\n",
       "    <tr>\n",
       "      <th>3</th>\n",
       "      <td>-0.777338</td>\n",
       "      <td>0.011822</td>\n",
       "      <td>-1.676896</td>\n",
       "      <td>-0.304769</td>\n",
       "      <td>-0.201653</td>\n",
       "      <td>-0.082389</td>\n",
       "      <td>-0.106237</td>\n",
       "      <td>-0.373470</td>\n",
       "      <td>-0.074839</td>\n",
       "      <td>-0.569627</td>\n",
       "      <td>-0.29917</td>\n",
       "      <td>-0.839684</td>\n",
       "    </tr>\n",
       "    <tr>\n",
       "      <th>4</th>\n",
       "      <td>-0.765717</td>\n",
       "      <td>0.011822</td>\n",
       "      <td>-1.676896</td>\n",
       "      <td>-0.304769</td>\n",
       "      <td>-0.201653</td>\n",
       "      <td>-0.082389</td>\n",
       "      <td>-0.106237</td>\n",
       "      <td>-0.373470</td>\n",
       "      <td>-0.074839</td>\n",
       "      <td>-0.151549</td>\n",
       "      <td>-0.29917</td>\n",
       "      <td>0.362324</td>\n",
       "    </tr>\n",
       "  </tbody>\n",
       "</table>\n",
       "</div>"
      ],
      "text/plain": [
       "   lead_time  arrival_date_week_number  arrival_date_day_of_month  children  \\\n",
       "0   3.045939                  0.011822                  -1.676896 -0.304769   \n",
       "1   7.636196                  0.011822                  -1.676896 -0.304769   \n",
       "2  -0.847064                  0.011822                  -1.676896 -0.304769   \n",
       "3  -0.777338                  0.011822                  -1.676896 -0.304769   \n",
       "4  -0.765717                  0.011822                  -1.676896 -0.304769   \n",
       "\n",
       "   is_repeated_guest  previous_cancellations  previous_bookings_not_canceled  \\\n",
       "0          -0.201653               -0.082389                       -0.106237   \n",
       "1          -0.201653               -0.082389                       -0.106237   \n",
       "2          -0.201653               -0.082389                       -0.106237   \n",
       "3          -0.201653               -0.082389                       -0.106237   \n",
       "4          -0.201653               -0.082389                       -0.106237   \n",
       "\n",
       "   booking_changes  days_in_waiting_list       adr  \\\n",
       "0         3.751709             -0.074839 -1.932925   \n",
       "1         5.126769             -0.074839 -1.932925   \n",
       "2        -0.373470             -0.074839 -0.569627   \n",
       "3        -0.373470             -0.074839 -0.569627   \n",
       "4        -0.373470             -0.074839 -0.151549   \n",
       "\n",
       "   required_car_parking_spaces  total_of_special_requests  \n",
       "0                     -0.29917                  -0.839684  \n",
       "1                     -0.29917                  -0.839684  \n",
       "2                     -0.29917                  -0.839684  \n",
       "3                     -0.29917                  -0.839684  \n",
       "4                     -0.29917                   0.362324  "
      ]
     },
     "metadata": {},
     "output_type": "display_data"
    }
   ],
   "source": [
    "num_type = data.select_dtypes(include = [np.number]).columns.tolist()\n",
    "X_numeric = data[num_type]\n",
    "\n",
    "X_numeric = X_numeric.drop('is_canceled', axis=1)\n",
    "display(X_numeric.head())\n",
    "y = data['is_canceled']\n",
    "\n",
    "## Scale the numeric variable using satnde\n",
    "from sklearn.preprocessing import StandardScaler\n",
    "scaler = StandardScaler()\n",
    "X_numeric_scale = pd.DataFrame(scaler.fit_transform(X_numeric), columns = X_numeric.columns)\n",
    "display(X_numeric_scale.head())\n",
    "\n",
    "# print(X_numeric.shape)\n",
    "# print(X_numeric.info())"
   ]
  },
  {
   "cell_type": "code",
   "execution_count": 54,
   "metadata": {},
   "outputs": [
    {
     "name": "stdout",
     "output_type": "stream",
     "text": [
      "[False False False False False  True  True False False False  True False]\n",
      "[ 3  7 10  8  6  1  1  5  9  2  1  4]\n"
     ]
    }
   ],
   "source": [
    "\n",
    "from sklearn.feature_selection import RFE\n",
    "from sklearn.linear_model import LogisticRegression\n",
    "\n",
    "# create a base classifier used to evaluate a subset of attributes\n",
    "model = LogisticRegression(solver='lbfgs', random_state=42, n_jobs=-1)\n",
    "\n",
    "# create the RFE model and select 3 attributes\n",
    "rfe = RFE(model, 3)\n",
    "rfe = rfe.fit(X_numeric_scale, y)\n",
    "\n",
    "# summarize the selection of the attributes\n",
    "print(rfe.support_)\n",
    "print(rfe.ranking_)"
   ]
  },
  {
   "cell_type": "markdown",
   "metadata": {},
   "source": [
    "### C. Feature Importance (ExtraTreesClassifier())"
   ]
  },
  {
   "cell_type": "code",
   "execution_count": 55,
   "metadata": {},
   "outputs": [
    {
     "name": "stdout",
     "output_type": "stream",
     "text": [
      "[0.28008649 0.13295423 0.16024498 0.01076333 0.00709686 0.02681556\n",
      " 0.00457745 0.03558693 0.00435581 0.26255104 0.03309933 0.04186799]\n"
     ]
    },
    {
     "data": {
      "image/png": "[encoded data removed]",
      "text/plain": [
       "<Figure size 720x504 with 1 Axes>"
      ]
     },
     "metadata": {},
     "output_type": "display_data"
    }
   ],
   "source": [
    "from sklearn.ensemble import ExtraTreesClassifier\n",
    "\n",
    "# fit an Extra Trees model to the data\n",
    "model = ExtraTreesClassifier()\n",
    "model.fit(X_numeric_scale, y)\n",
    "# display the relative importance of each attribute\n",
    "print(model.feature_importances_)\n",
    "\n",
    "# feature_importances of tree based classifiers\n",
    "#plot graph of feature importances for better visualization\n",
    "feat_importances = pd.Series(model.feature_importances_, index=X_numeric_scale.columns)\n",
    "\n",
    "from itertools import cycle, islice\n",
    "my_colors = list(islice(cycle(['b', 'r', 'g', 'y', 'k']), None, len(feat_importances)))\n",
    "plt.figure(figsize = (10, 7))\n",
    "feat_importances.nlargest(15).plot(kind='barh', color=my_colors, title = 'Feature Importance')\n",
    "\n",
    "# feat_importances.nlargest(15).sns.countplot()\n",
    "plt.show()"
   ]
  },
  {
   "cell_type": "code",
   "execution_count": 56,
   "metadata": {},
   "outputs": [
    {
     "data": {
      "text/plain": [
       "['is_canceled',\n",
       " 'lead_time',\n",
       " 'arrival_date_week_number',\n",
       " 'arrival_date_day_of_month',\n",
       " 'children',\n",
       " 'is_repeated_guest',\n",
       " 'previous_cancellations',\n",
       " 'previous_bookings_not_canceled',\n",
       " 'booking_changes',\n",
       " 'days_in_waiting_list',\n",
       " 'adr',\n",
       " 'required_car_parking_spaces',\n",
       " 'total_of_special_requests']"
      ]
     },
     "execution_count": 56,
     "metadata": {},
     "output_type": "execute_result"
    }
   ],
   "source": [
    "num_type"
   ]
  },
  {
   "cell_type": "markdown",
   "metadata": {},
   "source": [
    "## Based on Feature Importance\n",
    "### Removing  \n"
   ]
  },
  {
   "cell_type": "code",
   "execution_count": 57,
   "metadata": {},
   "outputs": [
    {
     "data": {
      "text/plain": [
       "(87396, 24)"
      ]
     },
     "execution_count": 57,
     "metadata": {},
     "output_type": "execute_result"
    }
   ],
   "source": [
    "data = data.drop(['days_in_waiting_list','previous_bookings_not_canceled', 'is_repeated_guest', 'children' ], axis=1)\n",
    "data.shape"
   ]
  },
  {
   "cell_type": "markdown",
   "metadata": {},
   "source": [
    "## 3.2 Categorical Features\n",
    "- A. Chi Square Test & Fisher Score\n"
   ]
  },
  {
   "cell_type": "markdown",
   "metadata": {},
   "source": [
    "### A. Chi Square Test"
   ]
  },
  {
   "cell_type": "code",
   "execution_count": 58,
   "metadata": {},
   "outputs": [
    {
     "name": "stdout",
     "output_type": "stream",
     "text": [
      "Categorical Types columns name: \n",
      " ['hotel', 'arrival_date_year', 'arrival_date_month', 'stays_in_weekend_nights', 'stays_in_week_nights', 'adults', 'babies', 'meal', 'market_segment', 'distribution_channel', 'reserved_room_type', 'assigned_room_type', 'deposit_type', 'customer_type', 'reservation_status']\n"
     ]
    },
    {
     "data": {
      "text/html": [
       "<div>\n",
       "<style scoped>\n",
       "    .dataframe tbody tr th:only-of-type {\n",
       "        vertical-align: middle;\n",
       "    }\n",
       "\n",
       "    .dataframe tbody tr th {\n",
       "        vertical-align: top;\n",
       "    }\n",
       "\n",
       "    .dataframe thead th {\n",
       "        text-align: right;\n",
       "    }\n",
       "</style>\n",
       "<table border=\"1\" class=\"dataframe\">\n",
       "  <thead>\n",
       "    <tr style=\"text-align: right;\">\n",
       "      <th></th>\n",
       "      <th>hotel</th>\n",
       "      <th>arrival_date_year</th>\n",
       "      <th>arrival_date_month</th>\n",
       "      <th>stays_in_weekend_nights</th>\n",
       "      <th>stays_in_week_nights</th>\n",
       "      <th>adults</th>\n",
       "      <th>babies</th>\n",
       "      <th>meal</th>\n",
       "      <th>market_segment</th>\n",
       "      <th>distribution_channel</th>\n",
       "      <th>reserved_room_type</th>\n",
       "      <th>assigned_room_type</th>\n",
       "      <th>deposit_type</th>\n",
       "      <th>customer_type</th>\n",
       "      <th>reservation_status</th>\n",
       "    </tr>\n",
       "  </thead>\n",
       "  <tbody>\n",
       "    <tr>\n",
       "      <th>0</th>\n",
       "      <td>Resort Hotel</td>\n",
       "      <td>2015</td>\n",
       "      <td>July</td>\n",
       "      <td>0 weekend night</td>\n",
       "      <td>0 week night</td>\n",
       "      <td>2 adults</td>\n",
       "      <td>0 babies</td>\n",
       "      <td>BB</td>\n",
       "      <td>Direct</td>\n",
       "      <td>Direct</td>\n",
       "      <td>C</td>\n",
       "      <td>C</td>\n",
       "      <td>No Deposit</td>\n",
       "      <td>Transient</td>\n",
       "      <td>Check-Out</td>\n",
       "    </tr>\n",
       "    <tr>\n",
       "      <th>1</th>\n",
       "      <td>Resort Hotel</td>\n",
       "      <td>2015</td>\n",
       "      <td>July</td>\n",
       "      <td>0 weekend night</td>\n",
       "      <td>0 week night</td>\n",
       "      <td>2 adults</td>\n",
       "      <td>0 babies</td>\n",
       "      <td>BB</td>\n",
       "      <td>Direct</td>\n",
       "      <td>Direct</td>\n",
       "      <td>C</td>\n",
       "      <td>C</td>\n",
       "      <td>No Deposit</td>\n",
       "      <td>Transient</td>\n",
       "      <td>Check-Out</td>\n",
       "    </tr>\n",
       "    <tr>\n",
       "      <th>2</th>\n",
       "      <td>Resort Hotel</td>\n",
       "      <td>2015</td>\n",
       "      <td>July</td>\n",
       "      <td>0 weekend night</td>\n",
       "      <td>1 week night</td>\n",
       "      <td>1 adult</td>\n",
       "      <td>0 babies</td>\n",
       "      <td>BB</td>\n",
       "      <td>Direct</td>\n",
       "      <td>Direct</td>\n",
       "      <td>A</td>\n",
       "      <td>C</td>\n",
       "      <td>No Deposit</td>\n",
       "      <td>Transient</td>\n",
       "      <td>Check-Out</td>\n",
       "    </tr>\n",
       "    <tr>\n",
       "      <th>3</th>\n",
       "      <td>Resort Hotel</td>\n",
       "      <td>2015</td>\n",
       "      <td>July</td>\n",
       "      <td>0 weekend night</td>\n",
       "      <td>1 week night</td>\n",
       "      <td>1 adult</td>\n",
       "      <td>0 babies</td>\n",
       "      <td>BB</td>\n",
       "      <td>Corporate</td>\n",
       "      <td>Corporate</td>\n",
       "      <td>A</td>\n",
       "      <td>A</td>\n",
       "      <td>No Deposit</td>\n",
       "      <td>Transient</td>\n",
       "      <td>Check-Out</td>\n",
       "    </tr>\n",
       "    <tr>\n",
       "      <th>4</th>\n",
       "      <td>Resort Hotel</td>\n",
       "      <td>2015</td>\n",
       "      <td>July</td>\n",
       "      <td>0 weekend night</td>\n",
       "      <td>2 week night</td>\n",
       "      <td>2 adults</td>\n",
       "      <td>0 babies</td>\n",
       "      <td>BB</td>\n",
       "      <td>Online TA</td>\n",
       "      <td>TA/TO</td>\n",
       "      <td>A</td>\n",
       "      <td>A</td>\n",
       "      <td>No Deposit</td>\n",
       "      <td>Transient</td>\n",
       "      <td>Check-Out</td>\n",
       "    </tr>\n",
       "  </tbody>\n",
       "</table>\n",
       "</div>"
      ],
      "text/plain": [
       "          hotel arrival_date_year arrival_date_month stays_in_weekend_nights  \\\n",
       "0  Resort Hotel              2015               July         0 weekend night   \n",
       "1  Resort Hotel              2015               July         0 weekend night   \n",
       "2  Resort Hotel              2015               July         0 weekend night   \n",
       "3  Resort Hotel              2015               July         0 weekend night   \n",
       "4  Resort Hotel              2015               July         0 weekend night   \n",
       "\n",
       "  stays_in_week_nights    adults    babies meal market_segment  \\\n",
       "0         0 week night  2 adults  0 babies   BB         Direct   \n",
       "1         0 week night  2 adults  0 babies   BB         Direct   \n",
       "2         1 week night   1 adult  0 babies   BB         Direct   \n",
       "3         1 week night   1 adult  0 babies   BB      Corporate   \n",
       "4         2 week night  2 adults  0 babies   BB      Online TA   \n",
       "\n",
       "  distribution_channel reserved_room_type assigned_room_type deposit_type  \\\n",
       "0               Direct                  C                  C   No Deposit   \n",
       "1               Direct                  C                  C   No Deposit   \n",
       "2               Direct                  A                  C   No Deposit   \n",
       "3            Corporate                  A                  A   No Deposit   \n",
       "4                TA/TO                  A                  A   No Deposit   \n",
       "\n",
       "  customer_type reservation_status  \n",
       "0     Transient          Check-Out  \n",
       "1     Transient          Check-Out  \n",
       "2     Transient          Check-Out  \n",
       "3     Transient          Check-Out  \n",
       "4     Transient          Check-Out  "
      ]
     },
     "metadata": {},
     "output_type": "display_data"
    }
   ],
   "source": [
    "cat_object_type = data.select_dtypes(include='object').columns.tolist()\n",
    "print(\"Categorical Types columns name: \\n\", cat_object_type)\n",
    "\n",
    "X_cat = data[cat_object_type]\n",
    "display(X_cat.head())\n",
    "\n",
    "y = data['is_canceled']"
   ]
  },
  {
   "cell_type": "code",
   "execution_count": 59,
   "metadata": {},
   "outputs": [
    {
     "data": {
      "text/html": [
       "<div>\n",
       "<style scoped>\n",
       "    .dataframe tbody tr th:only-of-type {\n",
       "        vertical-align: middle;\n",
       "    }\n",
       "\n",
       "    .dataframe tbody tr th {\n",
       "        vertical-align: top;\n",
       "    }\n",
       "\n",
       "    .dataframe thead th {\n",
       "        text-align: right;\n",
       "    }\n",
       "</style>\n",
       "<table border=\"1\" class=\"dataframe\">\n",
       "  <thead>\n",
       "    <tr style=\"text-align: right;\">\n",
       "      <th></th>\n",
       "      <th>hotel</th>\n",
       "      <th>arrival_date_year</th>\n",
       "      <th>arrival_date_month</th>\n",
       "      <th>stays_in_weekend_nights</th>\n",
       "      <th>stays_in_week_nights</th>\n",
       "      <th>adults</th>\n",
       "      <th>babies</th>\n",
       "      <th>meal</th>\n",
       "      <th>market_segment</th>\n",
       "      <th>distribution_channel</th>\n",
       "      <th>reserved_room_type</th>\n",
       "      <th>assigned_room_type</th>\n",
       "      <th>deposit_type</th>\n",
       "      <th>customer_type</th>\n",
       "      <th>reservation_status</th>\n",
       "    </tr>\n",
       "  </thead>\n",
       "  <tbody>\n",
       "    <tr>\n",
       "      <th>0</th>\n",
       "      <td>1</td>\n",
       "      <td>0</td>\n",
       "      <td>5</td>\n",
       "      <td>0</td>\n",
       "      <td>0</td>\n",
       "      <td>2</td>\n",
       "      <td>0</td>\n",
       "      <td>0</td>\n",
       "      <td>3</td>\n",
       "      <td>1</td>\n",
       "      <td>2</td>\n",
       "      <td>2</td>\n",
       "      <td>0</td>\n",
       "      <td>2</td>\n",
       "      <td>1</td>\n",
       "    </tr>\n",
       "    <tr>\n",
       "      <th>1</th>\n",
       "      <td>1</td>\n",
       "      <td>0</td>\n",
       "      <td>5</td>\n",
       "      <td>0</td>\n",
       "      <td>0</td>\n",
       "      <td>2</td>\n",
       "      <td>0</td>\n",
       "      <td>0</td>\n",
       "      <td>3</td>\n",
       "      <td>1</td>\n",
       "      <td>2</td>\n",
       "      <td>2</td>\n",
       "      <td>0</td>\n",
       "      <td>2</td>\n",
       "      <td>1</td>\n",
       "    </tr>\n",
       "    <tr>\n",
       "      <th>2</th>\n",
       "      <td>1</td>\n",
       "      <td>0</td>\n",
       "      <td>5</td>\n",
       "      <td>0</td>\n",
       "      <td>1</td>\n",
       "      <td>1</td>\n",
       "      <td>0</td>\n",
       "      <td>0</td>\n",
       "      <td>3</td>\n",
       "      <td>1</td>\n",
       "      <td>0</td>\n",
       "      <td>2</td>\n",
       "      <td>0</td>\n",
       "      <td>2</td>\n",
       "      <td>1</td>\n",
       "    </tr>\n",
       "    <tr>\n",
       "      <th>3</th>\n",
       "      <td>1</td>\n",
       "      <td>0</td>\n",
       "      <td>5</td>\n",
       "      <td>0</td>\n",
       "      <td>1</td>\n",
       "      <td>1</td>\n",
       "      <td>0</td>\n",
       "      <td>0</td>\n",
       "      <td>2</td>\n",
       "      <td>0</td>\n",
       "      <td>0</td>\n",
       "      <td>0</td>\n",
       "      <td>0</td>\n",
       "      <td>2</td>\n",
       "      <td>1</td>\n",
       "    </tr>\n",
       "    <tr>\n",
       "      <th>4</th>\n",
       "      <td>1</td>\n",
       "      <td>0</td>\n",
       "      <td>5</td>\n",
       "      <td>0</td>\n",
       "      <td>3</td>\n",
       "      <td>2</td>\n",
       "      <td>0</td>\n",
       "      <td>0</td>\n",
       "      <td>6</td>\n",
       "      <td>3</td>\n",
       "      <td>0</td>\n",
       "      <td>0</td>\n",
       "      <td>0</td>\n",
       "      <td>2</td>\n",
       "      <td>1</td>\n",
       "    </tr>\n",
       "    <tr>\n",
       "      <th>6</th>\n",
       "      <td>1</td>\n",
       "      <td>0</td>\n",
       "      <td>5</td>\n",
       "      <td>0</td>\n",
       "      <td>3</td>\n",
       "      <td>2</td>\n",
       "      <td>0</td>\n",
       "      <td>0</td>\n",
       "      <td>3</td>\n",
       "      <td>1</td>\n",
       "      <td>2</td>\n",
       "      <td>2</td>\n",
       "      <td>0</td>\n",
       "      <td>2</td>\n",
       "      <td>1</td>\n",
       "    </tr>\n",
       "    <tr>\n",
       "      <th>7</th>\n",
       "      <td>1</td>\n",
       "      <td>0</td>\n",
       "      <td>5</td>\n",
       "      <td>0</td>\n",
       "      <td>3</td>\n",
       "      <td>2</td>\n",
       "      <td>0</td>\n",
       "      <td>1</td>\n",
       "      <td>3</td>\n",
       "      <td>1</td>\n",
       "      <td>2</td>\n",
       "      <td>2</td>\n",
       "      <td>0</td>\n",
       "      <td>2</td>\n",
       "      <td>1</td>\n",
       "    </tr>\n",
       "    <tr>\n",
       "      <th>8</th>\n",
       "      <td>1</td>\n",
       "      <td>0</td>\n",
       "      <td>5</td>\n",
       "      <td>0</td>\n",
       "      <td>4</td>\n",
       "      <td>2</td>\n",
       "      <td>0</td>\n",
       "      <td>0</td>\n",
       "      <td>6</td>\n",
       "      <td>3</td>\n",
       "      <td>0</td>\n",
       "      <td>0</td>\n",
       "      <td>0</td>\n",
       "      <td>2</td>\n",
       "      <td>0</td>\n",
       "    </tr>\n",
       "    <tr>\n",
       "      <th>9</th>\n",
       "      <td>1</td>\n",
       "      <td>0</td>\n",
       "      <td>5</td>\n",
       "      <td>0</td>\n",
       "      <td>4</td>\n",
       "      <td>2</td>\n",
       "      <td>0</td>\n",
       "      <td>2</td>\n",
       "      <td>5</td>\n",
       "      <td>3</td>\n",
       "      <td>3</td>\n",
       "      <td>3</td>\n",
       "      <td>0</td>\n",
       "      <td>2</td>\n",
       "      <td>0</td>\n",
       "    </tr>\n",
       "    <tr>\n",
       "      <th>10</th>\n",
       "      <td>1</td>\n",
       "      <td>0</td>\n",
       "      <td>5</td>\n",
       "      <td>0</td>\n",
       "      <td>5</td>\n",
       "      <td>2</td>\n",
       "      <td>0</td>\n",
       "      <td>0</td>\n",
       "      <td>6</td>\n",
       "      <td>3</td>\n",
       "      <td>4</td>\n",
       "      <td>4</td>\n",
       "      <td>0</td>\n",
       "      <td>2</td>\n",
       "      <td>0</td>\n",
       "    </tr>\n",
       "  </tbody>\n",
       "</table>\n",
       "</div>"
      ],
      "text/plain": [
       "    hotel  arrival_date_year  arrival_date_month  stays_in_weekend_nights  \\\n",
       "0       1                  0                   5                        0   \n",
       "1       1                  0                   5                        0   \n",
       "2       1                  0                   5                        0   \n",
       "3       1                  0                   5                        0   \n",
       "4       1                  0                   5                        0   \n",
       "6       1                  0                   5                        0   \n",
       "7       1                  0                   5                        0   \n",
       "8       1                  0                   5                        0   \n",
       "9       1                  0                   5                        0   \n",
       "10      1                  0                   5                        0   \n",
       "\n",
       "    stays_in_week_nights  adults  babies  meal  market_segment  \\\n",
       "0                      0       2       0     0               3   \n",
       "1                      0       2       0     0               3   \n",
       "2                      1       1       0     0               3   \n",
       "3                      1       1       0     0               2   \n",
       "4                      3       2       0     0               6   \n",
       "6                      3       2       0     0               3   \n",
       "7                      3       2       0     1               3   \n",
       "8                      4       2       0     0               6   \n",
       "9                      4       2       0     2               5   \n",
       "10                     5       2       0     0               6   \n",
       "\n",
       "    distribution_channel  reserved_room_type  assigned_room_type  \\\n",
       "0                      1                   2                   2   \n",
       "1                      1                   2                   2   \n",
       "2                      1                   0                   2   \n",
       "3                      0                   0                   0   \n",
       "4                      3                   0                   0   \n",
       "6                      1                   2                   2   \n",
       "7                      1                   2                   2   \n",
       "8                      3                   0                   0   \n",
       "9                      3                   3                   3   \n",
       "10                     3                   4                   4   \n",
       "\n",
       "    deposit_type  customer_type  reservation_status  \n",
       "0              0              2                   1  \n",
       "1              0              2                   1  \n",
       "2              0              2                   1  \n",
       "3              0              2                   1  \n",
       "4              0              2                   1  \n",
       "6              0              2                   1  \n",
       "7              0              2                   1  \n",
       "8              0              2                   0  \n",
       "9              0              2                   0  \n",
       "10             0              2                   0  "
      ]
     },
     "execution_count": 59,
     "metadata": {},
     "output_type": "execute_result"
    }
   ],
   "source": [
    "# import labelencoder\n",
    "from sklearn.preprocessing import LabelEncoder\n",
    "\n",
    "# instantiate labelencoder object\n",
    "le = LabelEncoder()\n",
    "\n",
    "# apply le on categorical feature columns\n",
    "X_cat = X_cat.apply(lambda col: le.fit_transform(col))\n",
    "X_cat.head(10)"
   ]
  },
  {
   "cell_type": "code",
   "execution_count": 60,
   "metadata": {},
   "outputs": [
    {
     "name": "stdout",
     "output_type": "stream",
     "text": [
      "(87396, 15)\n",
      "(87396,)\n"
     ]
    }
   ],
   "source": [
    "X = X_cat.copy()\n",
    "print(X.shape)\n",
    "y = data['is_canceled']\n",
    "print(y.shape)"
   ]
  },
  {
   "cell_type": "code",
   "execution_count": 61,
   "metadata": {},
   "outputs": [],
   "source": [
    "from sklearn.model_selection import train_test_split\n",
    "X_train, X_test, y_train, y_test = train_test_split(X, y, test_size=0.2, random_state=0)"
   ]
  },
  {
   "cell_type": "code",
   "execution_count": 62,
   "metadata": {},
   "outputs": [
    {
     "data": {
      "text/plain": [
       "(array([2.14309590e+02, 2.05983488e+02, 3.35890747e+02, 2.33202673e+02,\n",
       "        8.85604788e+02, 7.51479852e+01, 3.49076397e+01, 3.30898934e+02,\n",
       "        8.34150880e+02, 5.67264025e+02, 3.91106292e+02, 6.78183336e+02,\n",
       "        1.60354974e+03, 8.87827653e+00, 1.56066717e+04]),\n",
       " array([1.57644851e-048, 1.03322372e-046, 5.00966435e-075, 1.19375064e-052,\n",
       "        1.32188844e-194, 4.36722199e-018, 3.45721680e-009, 6.12349205e-074,\n",
       "        2.02878777e-183, 2.21038134e-125, 4.75375737e-087, 1.65954213e-149,\n",
       "        0.00000000e+000, 2.88583844e-003, 0.00000000e+000]))"
      ]
     },
     "execution_count": 62,
     "metadata": {},
     "output_type": "execute_result"
    }
   ],
   "source": [
    "from sklearn.feature_selection import chi2\n",
    "\n",
    "f_score = chi2(X_train, y_train)\n",
    "f_score"
   ]
  },
  {
   "cell_type": "code",
   "execution_count": 63,
   "metadata": {},
   "outputs": [
    {
     "data": {
      "text/plain": [
       "deposit_type                0.000000e+00\n",
       "reservation_status          0.000000e+00\n",
       "stays_in_week_nights       1.321888e-194\n",
       "market_segment             2.028788e-183\n",
       "assigned_room_type         1.659542e-149\n",
       "distribution_channel       2.210381e-125\n",
       "reserved_room_type          4.753757e-87\n",
       "arrival_date_month          5.009664e-75\n",
       "meal                        6.123492e-74\n",
       "stays_in_weekend_nights     1.193751e-52\n",
       "hotel                       1.576449e-48\n",
       "arrival_date_year           1.033224e-46\n",
       "adults                      4.367222e-18\n",
       "babies                      3.457217e-09\n",
       "customer_type               2.885838e-03\n",
       "dtype: float64"
      ]
     },
     "execution_count": 63,
     "metadata": {},
     "output_type": "execute_result"
    }
   ],
   "source": [
    "p_values = pd.Series(f_score[1], index = X_train.columns)\n",
    "p_values.sort_values(ascending = True, inplace=True)\n",
    "p_values\n",
    "\n",
    "## Comment: Lowest the p-values---- more important it is"
   ]
  },
  {
   "cell_type": "code",
   "execution_count": 64,
   "metadata": {},
   "outputs": [
    {
     "data": {
      "text/plain": [
       "pandas.core.series.Series"
      ]
     },
     "execution_count": 64,
     "metadata": {},
     "output_type": "execute_result"
    }
   ],
   "source": [
    "type(p_values)"
   ]
  },
  {
   "cell_type": "code",
   "execution_count": 65,
   "metadata": {},
   "outputs": [
    {
     "data": {
      "text/plain": [
       "<matplotlib.axes._subplots.AxesSubplot at 0x1fc0098f488>"
      ]
     },
     "execution_count": 65,
     "metadata": {},
     "output_type": "execute_result"
    },
    {
     "data": {
      "image/png": "[encoded data removed]",
      "text/plain": [
       "<Figure size 432x288 with 1 Axes>"
      ]
     },
     "metadata": {},
     "output_type": "display_data"
    }
   ],
   "source": [
    "# plot\n",
    "p_values.plot.bar()"
   ]
  },
  {
   "cell_type": "markdown",
   "metadata": {},
   "source": [
    "##### From above Fisher Score and Chi2 test\n",
    "#### Removing \n",
    "<font color=red>\n",
    "'customer_type', 'babies', 'arrival_date_year'\n",
    "</font>\n"
   ]
  },
  {
   "cell_type": "code",
   "execution_count": 66,
   "metadata": {},
   "outputs": [
    {
     "data": {
      "text/plain": [
       "(87396, 20)"
      ]
     },
     "execution_count": 66,
     "metadata": {},
     "output_type": "execute_result"
    }
   ],
   "source": [
    "data = data.drop(['customer_type', 'babies', 'arrival_date_year', 'reservation_status'], axis=1)\n",
    "data.shape"
   ]
  },
  {
   "cell_type": "markdown",
   "metadata": {},
   "source": [
    "## After Data Cleaning:"
   ]
  },
  {
   "cell_type": "code",
   "execution_count": 67,
   "metadata": {},
   "outputs": [
    {
     "name": "stdout",
     "output_type": "stream",
     "text": [
      "Number of records (rows) Hotel Bookings Demand Datasets:  87396\n",
      "Number of features (columns) Hotel Bookings Demand Datasets:  20\n",
      "\n",
      "Columns names of the hotel booking datasets: \n",
      " ['hotel', 'is_canceled', 'lead_time', 'arrival_date_month', 'arrival_date_week_number', 'arrival_date_day_of_month', 'stays_in_weekend_nights', 'stays_in_week_nights', 'adults', 'meal', 'market_segment', 'distribution_channel', 'previous_cancellations', 'reserved_room_type', 'assigned_room_type', 'booking_changes', 'deposit_type', 'adr', 'required_car_parking_spaces', 'total_of_special_requests']\n"
     ]
    }
   ],
   "source": [
    "print(\"Number of records (rows) Hotel Bookings Demand Datasets: \", data.shape[0])\n",
    "print(\"Number of features (columns) Hotel Bookings Demand Datasets: \", data.shape[1])\n",
    "print(\"\\nColumns names of the hotel booking datasets: \\n\", data.columns.tolist())"
   ]
  },
  {
   "cell_type": "markdown",
   "metadata": {},
   "source": [
    "## List of numerical and categorical columns:"
   ]
  },
  {
   "cell_type": "code",
   "execution_count": 68,
   "metadata": {},
   "outputs": [
    {
     "name": "stdout",
     "output_type": "stream",
     "text": [
      "\n",
      "Numeric Types columns name: \n",
      " ['is_canceled', 'lead_time', 'arrival_date_week_number', 'arrival_date_day_of_month', 'previous_cancellations', 'booking_changes', 'adr', 'required_car_parking_spaces', 'total_of_special_requests']\n",
      "\n",
      "\n",
      "Categorical Types columns name: \n",
      " ['hotel', 'arrival_date_month', 'stays_in_weekend_nights', 'stays_in_week_nights', 'adults', 'meal', 'market_segment', 'distribution_channel', 'reserved_room_type', 'assigned_room_type', 'deposit_type']\n"
     ]
    }
   ],
   "source": [
    "# print(\" Columns names and their types: \\n\", hotel_data.dtypes)\n",
    "\n",
    "num_int = data.select_dtypes(include = [np.number]).columns.tolist()\n",
    "print(\"\\nNumeric Types columns name: \\n\", num_int)\n",
    "\n",
    "cat_object_type = data.select_dtypes(include='object').columns.tolist()\n",
    "print(\"\\n\\nCategorical Types columns name: \\n\", cat_object_type)"
   ]
  },
  {
   "cell_type": "code",
   "execution_count": 69,
   "metadata": {},
   "outputs": [
    {
     "name": "stdout",
     "output_type": "stream",
     "text": [
      "\n",
      "Summary of Statistics for numerical columns: \n"
     ]
    },
    {
     "data": {
      "text/html": [
       "<div>\n",
       "<style scoped>\n",
       "    .dataframe tbody tr th:only-of-type {\n",
       "        vertical-align: middle;\n",
       "    }\n",
       "\n",
       "    .dataframe tbody tr th {\n",
       "        vertical-align: top;\n",
       "    }\n",
       "\n",
       "    .dataframe thead th {\n",
       "        text-align: right;\n",
       "    }\n",
       "</style>\n",
       "<table border=\"1\" class=\"dataframe\">\n",
       "  <thead>\n",
       "    <tr style=\"text-align: right;\">\n",
       "      <th></th>\n",
       "      <th>count</th>\n",
       "      <th>mean</th>\n",
       "      <th>std</th>\n",
       "      <th>min</th>\n",
       "      <th>25%</th>\n",
       "      <th>50%</th>\n",
       "      <th>75%</th>\n",
       "      <th>max</th>\n",
       "    </tr>\n",
       "  </thead>\n",
       "  <tbody>\n",
       "    <tr>\n",
       "      <th>is_canceled</th>\n",
       "      <td>87396.0</td>\n",
       "      <td>0.274898</td>\n",
       "      <td>0.446466</td>\n",
       "      <td>0.00</td>\n",
       "      <td>0.0</td>\n",
       "      <td>0.0</td>\n",
       "      <td>1.0</td>\n",
       "      <td>1.0</td>\n",
       "    </tr>\n",
       "    <tr>\n",
       "      <th>lead_time</th>\n",
       "      <td>87396.0</td>\n",
       "      <td>79.891368</td>\n",
       "      <td>86.052325</td>\n",
       "      <td>0.00</td>\n",
       "      <td>11.0</td>\n",
       "      <td>49.0</td>\n",
       "      <td>125.0</td>\n",
       "      <td>737.0</td>\n",
       "    </tr>\n",
       "    <tr>\n",
       "      <th>arrival_date_week_number</th>\n",
       "      <td>87396.0</td>\n",
       "      <td>26.838334</td>\n",
       "      <td>13.674572</td>\n",
       "      <td>1.00</td>\n",
       "      <td>16.0</td>\n",
       "      <td>27.0</td>\n",
       "      <td>37.0</td>\n",
       "      <td>53.0</td>\n",
       "    </tr>\n",
       "    <tr>\n",
       "      <th>arrival_date_day_of_month</th>\n",
       "      <td>87396.0</td>\n",
       "      <td>15.815541</td>\n",
       "      <td>8.835146</td>\n",
       "      <td>1.00</td>\n",
       "      <td>8.0</td>\n",
       "      <td>16.0</td>\n",
       "      <td>23.0</td>\n",
       "      <td>31.0</td>\n",
       "    </tr>\n",
       "    <tr>\n",
       "      <th>previous_cancellations</th>\n",
       "      <td>87396.0</td>\n",
       "      <td>0.030413</td>\n",
       "      <td>0.369145</td>\n",
       "      <td>0.00</td>\n",
       "      <td>0.0</td>\n",
       "      <td>0.0</td>\n",
       "      <td>0.0</td>\n",
       "      <td>26.0</td>\n",
       "    </tr>\n",
       "    <tr>\n",
       "      <th>booking_changes</th>\n",
       "      <td>87396.0</td>\n",
       "      <td>0.271603</td>\n",
       "      <td>0.727245</td>\n",
       "      <td>0.00</td>\n",
       "      <td>0.0</td>\n",
       "      <td>0.0</td>\n",
       "      <td>0.0</td>\n",
       "      <td>21.0</td>\n",
       "    </tr>\n",
       "    <tr>\n",
       "      <th>adr</th>\n",
       "      <td>87396.0</td>\n",
       "      <td>106.337246</td>\n",
       "      <td>55.013953</td>\n",
       "      <td>-6.38</td>\n",
       "      <td>72.0</td>\n",
       "      <td>98.1</td>\n",
       "      <td>134.0</td>\n",
       "      <td>5400.0</td>\n",
       "    </tr>\n",
       "    <tr>\n",
       "      <th>required_car_parking_spaces</th>\n",
       "      <td>87396.0</td>\n",
       "      <td>0.084226</td>\n",
       "      <td>0.281533</td>\n",
       "      <td>0.00</td>\n",
       "      <td>0.0</td>\n",
       "      <td>0.0</td>\n",
       "      <td>0.0</td>\n",
       "      <td>8.0</td>\n",
       "    </tr>\n",
       "    <tr>\n",
       "      <th>total_of_special_requests</th>\n",
       "      <td>87396.0</td>\n",
       "      <td>0.698567</td>\n",
       "      <td>0.831946</td>\n",
       "      <td>0.00</td>\n",
       "      <td>0.0</td>\n",
       "      <td>0.0</td>\n",
       "      <td>1.0</td>\n",
       "      <td>5.0</td>\n",
       "    </tr>\n",
       "  </tbody>\n",
       "</table>\n",
       "</div>"
      ],
      "text/plain": [
       "                               count        mean        std   min   25%   50%  \\\n",
       "is_canceled                  87396.0    0.274898   0.446466  0.00   0.0   0.0   \n",
       "lead_time                    87396.0   79.891368  86.052325  0.00  11.0  49.0   \n",
       "arrival_date_week_number     87396.0   26.838334  13.674572  1.00  16.0  27.0   \n",
       "arrival_date_day_of_month    87396.0   15.815541   8.835146  1.00   8.0  16.0   \n",
       "previous_cancellations       87396.0    0.030413   0.369145  0.00   0.0   0.0   \n",
       "booking_changes              87396.0    0.271603   0.727245  0.00   0.0   0.0   \n",
       "adr                          87396.0  106.337246  55.013953 -6.38  72.0  98.1   \n",
       "required_car_parking_spaces  87396.0    0.084226   0.281533  0.00   0.0   0.0   \n",
       "total_of_special_requests    87396.0    0.698567   0.831946  0.00   0.0   0.0   \n",
       "\n",
       "                               75%     max  \n",
       "is_canceled                    1.0     1.0  \n",
       "lead_time                    125.0   737.0  \n",
       "arrival_date_week_number      37.0    53.0  \n",
       "arrival_date_day_of_month     23.0    31.0  \n",
       "previous_cancellations         0.0    26.0  \n",
       "booking_changes                0.0    21.0  \n",
       "adr                          134.0  5400.0  \n",
       "required_car_parking_spaces    0.0     8.0  \n",
       "total_of_special_requests      1.0     5.0  "
      ]
     },
     "metadata": {},
     "output_type": "display_data"
    },
    {
     "name": "stdout",
     "output_type": "stream",
     "text": [
      "\n",
      "Summary of Statistics for categorical columns: \n"
     ]
    },
    {
     "data": {
      "text/html": [
       "<div>\n",
       "<style scoped>\n",
       "    .dataframe tbody tr th:only-of-type {\n",
       "        vertical-align: middle;\n",
       "    }\n",
       "\n",
       "    .dataframe tbody tr th {\n",
       "        vertical-align: top;\n",
       "    }\n",
       "\n",
       "    .dataframe thead th {\n",
       "        text-align: right;\n",
       "    }\n",
       "</style>\n",
       "<table border=\"1\" class=\"dataframe\">\n",
       "  <thead>\n",
       "    <tr style=\"text-align: right;\">\n",
       "      <th></th>\n",
       "      <th>count</th>\n",
       "      <th>unique</th>\n",
       "      <th>top</th>\n",
       "      <th>freq</th>\n",
       "    </tr>\n",
       "  </thead>\n",
       "  <tbody>\n",
       "    <tr>\n",
       "      <th>hotel</th>\n",
       "      <td>87396</td>\n",
       "      <td>2</td>\n",
       "      <td>City Hotel</td>\n",
       "      <td>53428</td>\n",
       "    </tr>\n",
       "    <tr>\n",
       "      <th>arrival_date_month</th>\n",
       "      <td>87396</td>\n",
       "      <td>12</td>\n",
       "      <td>August</td>\n",
       "      <td>11257</td>\n",
       "    </tr>\n",
       "    <tr>\n",
       "      <th>stays_in_weekend_nights</th>\n",
       "      <td>87396</td>\n",
       "      <td>7</td>\n",
       "      <td>0 weekend night</td>\n",
       "      <td>35151</td>\n",
       "    </tr>\n",
       "    <tr>\n",
       "      <th>stays_in_week_nights</th>\n",
       "      <td>87396</td>\n",
       "      <td>12</td>\n",
       "      <td>1 week night</td>\n",
       "      <td>22191</td>\n",
       "    </tr>\n",
       "    <tr>\n",
       "      <th>adults</th>\n",
       "      <td>87396</td>\n",
       "      <td>7</td>\n",
       "      <td>2 adults</td>\n",
       "      <td>64497</td>\n",
       "    </tr>\n",
       "    <tr>\n",
       "      <th>meal</th>\n",
       "      <td>87396</td>\n",
       "      <td>5</td>\n",
       "      <td>BB</td>\n",
       "      <td>67978</td>\n",
       "    </tr>\n",
       "    <tr>\n",
       "      <th>market_segment</th>\n",
       "      <td>87396</td>\n",
       "      <td>8</td>\n",
       "      <td>Online TA</td>\n",
       "      <td>51618</td>\n",
       "    </tr>\n",
       "    <tr>\n",
       "      <th>distribution_channel</th>\n",
       "      <td>87396</td>\n",
       "      <td>5</td>\n",
       "      <td>TA/TO</td>\n",
       "      <td>69141</td>\n",
       "    </tr>\n",
       "    <tr>\n",
       "      <th>reserved_room_type</th>\n",
       "      <td>87396</td>\n",
       "      <td>10</td>\n",
       "      <td>A</td>\n",
       "      <td>56552</td>\n",
       "    </tr>\n",
       "    <tr>\n",
       "      <th>assigned_room_type</th>\n",
       "      <td>87396</td>\n",
       "      <td>12</td>\n",
       "      <td>A</td>\n",
       "      <td>46313</td>\n",
       "    </tr>\n",
       "    <tr>\n",
       "      <th>deposit_type</th>\n",
       "      <td>87396</td>\n",
       "      <td>3</td>\n",
       "      <td>No Deposit</td>\n",
       "      <td>86251</td>\n",
       "    </tr>\n",
       "  </tbody>\n",
       "</table>\n",
       "</div>"
      ],
      "text/plain": [
       "                         count unique              top   freq\n",
       "hotel                    87396      2       City Hotel  53428\n",
       "arrival_date_month       87396     12           August  11257\n",
       "stays_in_weekend_nights  87396      7  0 weekend night  35151\n",
       "stays_in_week_nights     87396     12     1 week night  22191\n",
       "adults                   87396      7         2 adults  64497\n",
       "meal                     87396      5               BB  67978\n",
       "market_segment           87396      8        Online TA  51618\n",
       "distribution_channel     87396      5            TA/TO  69141\n",
       "reserved_room_type       87396     10                A  56552\n",
       "assigned_room_type       87396     12                A  46313\n",
       "deposit_type             87396      3       No Deposit  86251"
      ]
     },
     "metadata": {},
     "output_type": "display_data"
    }
   ],
   "source": [
    "## Summary of numerical features\n",
    "print(\"\\nSummary of Statistics for numerical columns: \")\n",
    "display(data.describe(include = [np.number]).T)\n",
    "\n",
    "## Summary of categorical features\n",
    "print(\"\\nSummary of Statistics for categorical columns: \")\n",
    "display(data.describe(include = ['O']).T)"
   ]
  },
  {
   "cell_type": "markdown",
   "metadata": {},
   "source": [
    "### Resetting index"
   ]
  },
  {
   "cell_type": "code",
   "execution_count": 70,
   "metadata": {},
   "outputs": [],
   "source": [
    "data = data.reset_index(drop=True)"
   ]
  },
  {
   "cell_type": "code",
   "execution_count": 71,
   "metadata": {},
   "outputs": [
    {
     "data": {
      "text/html": [
       "<div>\n",
       "<style scoped>\n",
       "    .dataframe tbody tr th:only-of-type {\n",
       "        vertical-align: middle;\n",
       "    }\n",
       "\n",
       "    .dataframe tbody tr th {\n",
       "        vertical-align: top;\n",
       "    }\n",
       "\n",
       "    .dataframe thead th {\n",
       "        text-align: right;\n",
       "    }\n",
       "</style>\n",
       "<table border=\"1\" class=\"dataframe\">\n",
       "  <thead>\n",
       "    <tr style=\"text-align: right;\">\n",
       "      <th></th>\n",
       "      <th>hotel</th>\n",
       "      <th>is_canceled</th>\n",
       "      <th>lead_time</th>\n",
       "      <th>arrival_date_month</th>\n",
       "      <th>arrival_date_week_number</th>\n",
       "      <th>arrival_date_day_of_month</th>\n",
       "      <th>stays_in_weekend_nights</th>\n",
       "      <th>stays_in_week_nights</th>\n",
       "      <th>adults</th>\n",
       "      <th>meal</th>\n",
       "      <th>market_segment</th>\n",
       "      <th>distribution_channel</th>\n",
       "      <th>previous_cancellations</th>\n",
       "      <th>reserved_room_type</th>\n",
       "      <th>assigned_room_type</th>\n",
       "      <th>booking_changes</th>\n",
       "      <th>deposit_type</th>\n",
       "      <th>adr</th>\n",
       "      <th>required_car_parking_spaces</th>\n",
       "      <th>total_of_special_requests</th>\n",
       "    </tr>\n",
       "  </thead>\n",
       "  <tbody>\n",
       "    <tr>\n",
       "      <th>0</th>\n",
       "      <td>Resort Hotel</td>\n",
       "      <td>0</td>\n",
       "      <td>342</td>\n",
       "      <td>July</td>\n",
       "      <td>27</td>\n",
       "      <td>1</td>\n",
       "      <td>0 weekend night</td>\n",
       "      <td>0 week night</td>\n",
       "      <td>2 adults</td>\n",
       "      <td>BB</td>\n",
       "      <td>Direct</td>\n",
       "      <td>Direct</td>\n",
       "      <td>0</td>\n",
       "      <td>C</td>\n",
       "      <td>C</td>\n",
       "      <td>3</td>\n",
       "      <td>No Deposit</td>\n",
       "      <td>0.0</td>\n",
       "      <td>0</td>\n",
       "      <td>0</td>\n",
       "    </tr>\n",
       "    <tr>\n",
       "      <th>1</th>\n",
       "      <td>Resort Hotel</td>\n",
       "      <td>0</td>\n",
       "      <td>737</td>\n",
       "      <td>July</td>\n",
       "      <td>27</td>\n",
       "      <td>1</td>\n",
       "      <td>0 weekend night</td>\n",
       "      <td>0 week night</td>\n",
       "      <td>2 adults</td>\n",
       "      <td>BB</td>\n",
       "      <td>Direct</td>\n",
       "      <td>Direct</td>\n",
       "      <td>0</td>\n",
       "      <td>C</td>\n",
       "      <td>C</td>\n",
       "      <td>4</td>\n",
       "      <td>No Deposit</td>\n",
       "      <td>0.0</td>\n",
       "      <td>0</td>\n",
       "      <td>0</td>\n",
       "    </tr>\n",
       "    <tr>\n",
       "      <th>2</th>\n",
       "      <td>Resort Hotel</td>\n",
       "      <td>0</td>\n",
       "      <td>7</td>\n",
       "      <td>July</td>\n",
       "      <td>27</td>\n",
       "      <td>1</td>\n",
       "      <td>0 weekend night</td>\n",
       "      <td>1 week night</td>\n",
       "      <td>1 adult</td>\n",
       "      <td>BB</td>\n",
       "      <td>Direct</td>\n",
       "      <td>Direct</td>\n",
       "      <td>0</td>\n",
       "      <td>A</td>\n",
       "      <td>C</td>\n",
       "      <td>0</td>\n",
       "      <td>No Deposit</td>\n",
       "      <td>75.0</td>\n",
       "      <td>0</td>\n",
       "      <td>0</td>\n",
       "    </tr>\n",
       "    <tr>\n",
       "      <th>3</th>\n",
       "      <td>Resort Hotel</td>\n",
       "      <td>0</td>\n",
       "      <td>13</td>\n",
       "      <td>July</td>\n",
       "      <td>27</td>\n",
       "      <td>1</td>\n",
       "      <td>0 weekend night</td>\n",
       "      <td>1 week night</td>\n",
       "      <td>1 adult</td>\n",
       "      <td>BB</td>\n",
       "      <td>Corporate</td>\n",
       "      <td>Corporate</td>\n",
       "      <td>0</td>\n",
       "      <td>A</td>\n",
       "      <td>A</td>\n",
       "      <td>0</td>\n",
       "      <td>No Deposit</td>\n",
       "      <td>75.0</td>\n",
       "      <td>0</td>\n",
       "      <td>0</td>\n",
       "    </tr>\n",
       "    <tr>\n",
       "      <th>4</th>\n",
       "      <td>Resort Hotel</td>\n",
       "      <td>0</td>\n",
       "      <td>14</td>\n",
       "      <td>July</td>\n",
       "      <td>27</td>\n",
       "      <td>1</td>\n",
       "      <td>0 weekend night</td>\n",
       "      <td>2 week night</td>\n",
       "      <td>2 adults</td>\n",
       "      <td>BB</td>\n",
       "      <td>Online TA</td>\n",
       "      <td>TA/TO</td>\n",
       "      <td>0</td>\n",
       "      <td>A</td>\n",
       "      <td>A</td>\n",
       "      <td>0</td>\n",
       "      <td>No Deposit</td>\n",
       "      <td>98.0</td>\n",
       "      <td>0</td>\n",
       "      <td>1</td>\n",
       "    </tr>\n",
       "  </tbody>\n",
       "</table>\n",
       "</div>"
      ],
      "text/plain": [
       "          hotel  is_canceled  lead_time arrival_date_month  \\\n",
       "0  Resort Hotel            0        342               July   \n",
       "1  Resort Hotel            0        737               July   \n",
       "2  Resort Hotel            0          7               July   \n",
       "3  Resort Hotel            0         13               July   \n",
       "4  Resort Hotel            0         14               July   \n",
       "\n",
       "   arrival_date_week_number  arrival_date_day_of_month  \\\n",
       "0                        27                          1   \n",
       "1                        27                          1   \n",
       "2                        27                          1   \n",
       "3                        27                          1   \n",
       "4                        27                          1   \n",
       "\n",
       "  stays_in_weekend_nights stays_in_week_nights    adults meal market_segment  \\\n",
       "0         0 weekend night         0 week night  2 adults   BB         Direct   \n",
       "1         0 weekend night         0 week night  2 adults   BB         Direct   \n",
       "2         0 weekend night         1 week night   1 adult   BB         Direct   \n",
       "3         0 weekend night         1 week night   1 adult   BB      Corporate   \n",
       "4         0 weekend night         2 week night  2 adults   BB      Online TA   \n",
       "\n",
       "  distribution_channel  previous_cancellations reserved_room_type  \\\n",
       "0               Direct                       0                  C   \n",
       "1               Direct                       0                  C   \n",
       "2               Direct                       0                  A   \n",
       "3            Corporate                       0                  A   \n",
       "4                TA/TO                       0                  A   \n",
       "\n",
       "  assigned_room_type  booking_changes deposit_type   adr  \\\n",
       "0                  C                3   No Deposit   0.0   \n",
       "1                  C                4   No Deposit   0.0   \n",
       "2                  C                0   No Deposit  75.0   \n",
       "3                  A                0   No Deposit  75.0   \n",
       "4                  A                0   No Deposit  98.0   \n",
       "\n",
       "   required_car_parking_spaces  total_of_special_requests  \n",
       "0                            0                          0  \n",
       "1                            0                          0  \n",
       "2                            0                          0  \n",
       "3                            0                          0  \n",
       "4                            0                          1  "
      ]
     },
     "metadata": {},
     "output_type": "display_data"
    },
    {
     "name": "stdout",
     "output_type": "stream",
     "text": [
      "(87396, 20)\n"
     ]
    },
    {
     "data": {
      "text/plain": [
       "['hotel',\n",
       " 'is_canceled',\n",
       " 'lead_time',\n",
       " 'arrival_date_month',\n",
       " 'arrival_date_week_number',\n",
       " 'arrival_date_day_of_month',\n",
       " 'stays_in_weekend_nights',\n",
       " 'stays_in_week_nights',\n",
       " 'adults',\n",
       " 'meal',\n",
       " 'market_segment',\n",
       " 'distribution_channel',\n",
       " 'previous_cancellations',\n",
       " 'reserved_room_type',\n",
       " 'assigned_room_type',\n",
       " 'booking_changes',\n",
       " 'deposit_type',\n",
       " 'adr',\n",
       " 'required_car_parking_spaces',\n",
       " 'total_of_special_requests']"
      ]
     },
     "execution_count": 71,
     "metadata": {},
     "output_type": "execute_result"
    }
   ],
   "source": [
    "display(data.head())\n",
    "print(data.shape)\n",
    "\n",
    "## Important Features\n",
    "data.columns.tolist()"
   ]
  },
  {
   "cell_type": "markdown",
   "metadata": {},
   "source": [
    "###  1.5 Saving dataframe for Model Training "
   ]
  },
  {
   "cell_type": "code",
   "execution_count": 72,
   "metadata": {},
   "outputs": [],
   "source": [
    "data.to_csv('hotel_new.csv', index=False)"
   ]
  },
  {
   "cell_type": "code",
   "execution_count": null,
   "metadata": {},
   "outputs": [],
   "source": []
  },
  {
   "cell_type": "code",
   "execution_count": null,
   "metadata": {},
   "outputs": [],
   "source": []
  }
 ],
 "metadata": {
  "kernelspec": {
   "display_name": "Python 3",
   "language": "python",
   "name": "python3"
  },
  "language_info": {
   "codemirror_mode": {
    "name": "ipython",
    "version": 3
   },
   "file_extension": ".py",
   "mimetype": "text/x-python",
   "name": "python",
   "nbconvert_exporter": "python",
   "pygments_lexer": "ipython3",
   "version": "3.11.9"
  }
 },
 "nbformat": 4,
 "nbformat_minor": 4
}
